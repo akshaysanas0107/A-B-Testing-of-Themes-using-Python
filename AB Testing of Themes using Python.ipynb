{
 "cells": [
  {
   "cell_type": "markdown",
   "metadata": {},
   "source": [
    "# A/B Testing of Themes using Python"
   ]
  },
  {
   "cell_type": "code",
   "execution_count": 30,
   "metadata": {},
   "outputs": [],
   "source": [
    "import pandas as pd\n",
    "import seaborn as sns\n",
    "import matplotlib.pyplot as plt\n",
    "import plotly.express as px\n",
    "import plotly.graph_objects as go\n",
    "from statsmodels.stats.proportion import proportions_ztest\n",
    "from scipy import stats"
   ]
  },
  {
   "cell_type": "code",
   "execution_count": 3,
   "metadata": {},
   "outputs": [
    {
     "data": {
      "text/html": [
       "<div>\n",
       "<style scoped>\n",
       "    .dataframe tbody tr th:only-of-type {\n",
       "        vertical-align: middle;\n",
       "    }\n",
       "\n",
       "    .dataframe tbody tr th {\n",
       "        vertical-align: top;\n",
       "    }\n",
       "\n",
       "    .dataframe thead th {\n",
       "        text-align: right;\n",
       "    }\n",
       "</style>\n",
       "<table border=\"1\" class=\"dataframe\">\n",
       "  <thead>\n",
       "    <tr style=\"text-align: right;\">\n",
       "      <th></th>\n",
       "      <th>Theme</th>\n",
       "      <th>Click Through Rate</th>\n",
       "      <th>Conversion Rate</th>\n",
       "      <th>Bounce Rate</th>\n",
       "      <th>Scroll_Depth</th>\n",
       "      <th>Age</th>\n",
       "      <th>Location</th>\n",
       "      <th>Session_Duration</th>\n",
       "      <th>Purchases</th>\n",
       "      <th>Added_to_Cart</th>\n",
       "    </tr>\n",
       "  </thead>\n",
       "  <tbody>\n",
       "    <tr>\n",
       "      <th>0</th>\n",
       "      <td>Light Theme</td>\n",
       "      <td>0.054920</td>\n",
       "      <td>0.282367</td>\n",
       "      <td>0.405085</td>\n",
       "      <td>72.489458</td>\n",
       "      <td>25</td>\n",
       "      <td>Chennai</td>\n",
       "      <td>1535</td>\n",
       "      <td>No</td>\n",
       "      <td>Yes</td>\n",
       "    </tr>\n",
       "    <tr>\n",
       "      <th>1</th>\n",
       "      <td>Light Theme</td>\n",
       "      <td>0.113932</td>\n",
       "      <td>0.032973</td>\n",
       "      <td>0.732759</td>\n",
       "      <td>61.858568</td>\n",
       "      <td>19</td>\n",
       "      <td>Pune</td>\n",
       "      <td>303</td>\n",
       "      <td>No</td>\n",
       "      <td>Yes</td>\n",
       "    </tr>\n",
       "    <tr>\n",
       "      <th>2</th>\n",
       "      <td>Dark Theme</td>\n",
       "      <td>0.323352</td>\n",
       "      <td>0.178763</td>\n",
       "      <td>0.296543</td>\n",
       "      <td>45.737376</td>\n",
       "      <td>47</td>\n",
       "      <td>Chennai</td>\n",
       "      <td>563</td>\n",
       "      <td>Yes</td>\n",
       "      <td>Yes</td>\n",
       "    </tr>\n",
       "    <tr>\n",
       "      <th>3</th>\n",
       "      <td>Light Theme</td>\n",
       "      <td>0.485836</td>\n",
       "      <td>0.325225</td>\n",
       "      <td>0.245001</td>\n",
       "      <td>76.305298</td>\n",
       "      <td>58</td>\n",
       "      <td>Pune</td>\n",
       "      <td>385</td>\n",
       "      <td>Yes</td>\n",
       "      <td>No</td>\n",
       "    </tr>\n",
       "    <tr>\n",
       "      <th>4</th>\n",
       "      <td>Light Theme</td>\n",
       "      <td>0.034783</td>\n",
       "      <td>0.196766</td>\n",
       "      <td>0.765100</td>\n",
       "      <td>48.927407</td>\n",
       "      <td>25</td>\n",
       "      <td>New Delhi</td>\n",
       "      <td>1437</td>\n",
       "      <td>No</td>\n",
       "      <td>No</td>\n",
       "    </tr>\n",
       "  </tbody>\n",
       "</table>\n",
       "</div>"
      ],
      "text/plain": [
       "         Theme  Click Through Rate  Conversion Rate  Bounce Rate  \\\n",
       "0  Light Theme            0.054920         0.282367     0.405085   \n",
       "1  Light Theme            0.113932         0.032973     0.732759   \n",
       "2   Dark Theme            0.323352         0.178763     0.296543   \n",
       "3  Light Theme            0.485836         0.325225     0.245001   \n",
       "4  Light Theme            0.034783         0.196766     0.765100   \n",
       "\n",
       "   Scroll_Depth  Age   Location  Session_Duration Purchases Added_to_Cart  \n",
       "0     72.489458   25    Chennai              1535        No           Yes  \n",
       "1     61.858568   19       Pune               303        No           Yes  \n",
       "2     45.737376   47    Chennai               563       Yes           Yes  \n",
       "3     76.305298   58       Pune               385       Yes            No  \n",
       "4     48.927407   25  New Delhi              1437        No            No  "
      ]
     },
     "execution_count": 3,
     "metadata": {},
     "output_type": "execute_result"
    }
   ],
   "source": [
    "# importing and reading dataset using pandas\n",
    "\n",
    "data = pd.read_csv(\"./website_ab_test.csv\")\n",
    "data.head(5)"
   ]
  },
  {
   "cell_type": "code",
   "execution_count": 4,
   "metadata": {},
   "outputs": [
    {
     "data": {
      "text/plain": [
       "Theme                 0\n",
       "Click Through Rate    0\n",
       "Conversion Rate       0\n",
       "Bounce Rate           0\n",
       "Scroll_Depth          0\n",
       "Age                   0\n",
       "Location              0\n",
       "Session_Duration      0\n",
       "Purchases             0\n",
       "Added_to_Cart         0\n",
       "dtype: int64"
      ]
     },
     "execution_count": 4,
     "metadata": {},
     "output_type": "execute_result"
    }
   ],
   "source": [
    "# Lets see if data has nulls\n",
    "\n",
    "data.isnull().sum()"
   ]
  },
  {
   "cell_type": "markdown",
   "metadata": {},
   "source": [
    "Here we can see there are no Null Values"
   ]
  },
  {
   "cell_type": "code",
   "execution_count": 5,
   "metadata": {},
   "outputs": [
    {
     "name": "stdout",
     "output_type": "stream",
     "text": [
      "<class 'pandas.core.frame.DataFrame'>\n",
      "RangeIndex: 1000 entries, 0 to 999\n",
      "Data columns (total 10 columns):\n",
      " #   Column              Non-Null Count  Dtype  \n",
      "---  ------              --------------  -----  \n",
      " 0   Theme               1000 non-null   object \n",
      " 1   Click Through Rate  1000 non-null   float64\n",
      " 2   Conversion Rate     1000 non-null   float64\n",
      " 3   Bounce Rate         1000 non-null   float64\n",
      " 4   Scroll_Depth        1000 non-null   float64\n",
      " 5   Age                 1000 non-null   int64  \n",
      " 6   Location            1000 non-null   object \n",
      " 7   Session_Duration    1000 non-null   int64  \n",
      " 8   Purchases           1000 non-null   object \n",
      " 9   Added_to_Cart       1000 non-null   object \n",
      "dtypes: float64(4), int64(2), object(4)\n",
      "memory usage: 78.3+ KB\n"
     ]
    }
   ],
   "source": [
    "# Lets see some info\n",
    "\n",
    "data.info()"
   ]
  },
  {
   "cell_type": "code",
   "execution_count": 6,
   "metadata": {},
   "outputs": [
    {
     "data": {
      "text/html": [
       "<div>\n",
       "<style scoped>\n",
       "    .dataframe tbody tr th:only-of-type {\n",
       "        vertical-align: middle;\n",
       "    }\n",
       "\n",
       "    .dataframe tbody tr th {\n",
       "        vertical-align: top;\n",
       "    }\n",
       "\n",
       "    .dataframe thead th {\n",
       "        text-align: right;\n",
       "    }\n",
       "</style>\n",
       "<table border=\"1\" class=\"dataframe\">\n",
       "  <thead>\n",
       "    <tr style=\"text-align: right;\">\n",
       "      <th></th>\n",
       "      <th>Click Through Rate</th>\n",
       "      <th>Conversion Rate</th>\n",
       "      <th>Bounce Rate</th>\n",
       "      <th>Scroll_Depth</th>\n",
       "      <th>Age</th>\n",
       "      <th>Session_Duration</th>\n",
       "    </tr>\n",
       "  </thead>\n",
       "  <tbody>\n",
       "    <tr>\n",
       "      <th>count</th>\n",
       "      <td>1000.000000</td>\n",
       "      <td>1000.000000</td>\n",
       "      <td>1000.000000</td>\n",
       "      <td>1000.000000</td>\n",
       "      <td>1000.000000</td>\n",
       "      <td>1000.000000</td>\n",
       "    </tr>\n",
       "    <tr>\n",
       "      <th>mean</th>\n",
       "      <td>0.256048</td>\n",
       "      <td>0.253312</td>\n",
       "      <td>0.505758</td>\n",
       "      <td>50.319494</td>\n",
       "      <td>41.528000</td>\n",
       "      <td>924.999000</td>\n",
       "    </tr>\n",
       "    <tr>\n",
       "      <th>std</th>\n",
       "      <td>0.139265</td>\n",
       "      <td>0.139092</td>\n",
       "      <td>0.172195</td>\n",
       "      <td>16.895269</td>\n",
       "      <td>14.114334</td>\n",
       "      <td>508.231723</td>\n",
       "    </tr>\n",
       "    <tr>\n",
       "      <th>min</th>\n",
       "      <td>0.010767</td>\n",
       "      <td>0.010881</td>\n",
       "      <td>0.200720</td>\n",
       "      <td>20.011738</td>\n",
       "      <td>18.000000</td>\n",
       "      <td>38.000000</td>\n",
       "    </tr>\n",
       "    <tr>\n",
       "      <th>25%</th>\n",
       "      <td>0.140794</td>\n",
       "      <td>0.131564</td>\n",
       "      <td>0.353609</td>\n",
       "      <td>35.655167</td>\n",
       "      <td>29.000000</td>\n",
       "      <td>466.500000</td>\n",
       "    </tr>\n",
       "    <tr>\n",
       "      <th>50%</th>\n",
       "      <td>0.253715</td>\n",
       "      <td>0.252823</td>\n",
       "      <td>0.514049</td>\n",
       "      <td>51.130712</td>\n",
       "      <td>42.000000</td>\n",
       "      <td>931.000000</td>\n",
       "    </tr>\n",
       "    <tr>\n",
       "      <th>75%</th>\n",
       "      <td>0.370674</td>\n",
       "      <td>0.373040</td>\n",
       "      <td>0.648557</td>\n",
       "      <td>64.666258</td>\n",
       "      <td>54.000000</td>\n",
       "      <td>1375.250000</td>\n",
       "    </tr>\n",
       "    <tr>\n",
       "      <th>max</th>\n",
       "      <td>0.499989</td>\n",
       "      <td>0.498916</td>\n",
       "      <td>0.799658</td>\n",
       "      <td>79.997108</td>\n",
       "      <td>65.000000</td>\n",
       "      <td>1797.000000</td>\n",
       "    </tr>\n",
       "  </tbody>\n",
       "</table>\n",
       "</div>"
      ],
      "text/plain": [
       "       Click Through Rate  Conversion Rate  Bounce Rate  Scroll_Depth  \\\n",
       "count         1000.000000      1000.000000  1000.000000   1000.000000   \n",
       "mean             0.256048         0.253312     0.505758     50.319494   \n",
       "std              0.139265         0.139092     0.172195     16.895269   \n",
       "min              0.010767         0.010881     0.200720     20.011738   \n",
       "25%              0.140794         0.131564     0.353609     35.655167   \n",
       "50%              0.253715         0.252823     0.514049     51.130712   \n",
       "75%              0.370674         0.373040     0.648557     64.666258   \n",
       "max              0.499989         0.498916     0.799658     79.997108   \n",
       "\n",
       "               Age  Session_Duration  \n",
       "count  1000.000000       1000.000000  \n",
       "mean     41.528000        924.999000  \n",
       "std      14.114334        508.231723  \n",
       "min      18.000000         38.000000  \n",
       "25%      29.000000        466.500000  \n",
       "50%      42.000000        931.000000  \n",
       "75%      54.000000       1375.250000  \n",
       "max      65.000000       1797.000000  "
      ]
     },
     "execution_count": 6,
     "metadata": {},
     "output_type": "execute_result"
    }
   ],
   "source": [
    "# Lets Describe the data\n",
    "\n",
    "data.describe()"
   ]
  },
  {
   "cell_type": "code",
   "execution_count": 7,
   "metadata": {},
   "outputs": [],
   "source": [
    "# Now lets see description of all the columns:\n",
    "\n",
    "# Theme : Light or Dark Theme\n",
    "# Click Through Rate : Proportion of users clicked on links or  buttons on websites\n",
    "# Conversion Rate : Percentage of users who signed UP after visiting first Time\n",
    "# Bounce Rate : Proportion of users who leaved the website before further interaction\n",
    "# Scroll_Depth : The depth through which users scroll through website pages.\n",
    "# Age : The age of the user\n",
    "# Location : Location of the user accessing website\n",
    "# Session_Duration : Duration of users session on website.\n",
    "# Purchases : Whether user purchased book or not (Yes/No).\n",
    "# Added_to_Cart : Whether the user added the book to cart or not (Yes/No)."
   ]
  },
  {
   "cell_type": "code",
   "execution_count": 8,
   "metadata": {},
   "outputs": [
    {
     "data": {
      "image/png": "[encoded data removed]",
      "text/plain": [
       "<Figure size 640x480 with 1 Axes>"
      ]
     },
     "metadata": {},
     "output_type": "display_data"
    }
   ],
   "source": [
    "# Conversion Rate means daily percentage of users who signed Up to website. \n",
    "# Lets have a relationship between CTR (click Through Rate) and Conversion Rate\n",
    "\n",
    "# Scatter plot for CTR and conversion Rate\n",
    "\n",
    "sns.scatterplot(data=data,x=data['Click Through Rate'],y=data['Conversion Rate'],hue='Theme')\n",
    "\n",
    "plt.show()"
   ]
  },
  {
   "cell_type": "markdown",
   "metadata": {},
   "source": [
    "This shows the relation between CTR and Conversion rate is nearly consistent that means nearly all the users visiting website endup sigingup daily."
   ]
  },
  {
   "cell_type": "code",
   "execution_count": 9,
   "metadata": {},
   "outputs": [],
   "source": [
    "# Extract data for each Theme separately\n",
    "\n",
    "light_theme_data = data[data['Theme'] == 'Light Theme']\n",
    "dark_theme_data = data[data['Theme'] == 'Dark Theme']\n",
    "\n"
   ]
  },
  {
   "cell_type": "code",
   "execution_count": 10,
   "metadata": {},
   "outputs": [
    {
     "data": {
      "application/vnd.plotly.v1+json": {
       "config": {
        "plotlyServerURL": "https://plot.ly"
       },
       "data": [
        {
         "name": "Light Theme",
         "opacity": 0.6,
         "type": "histogram",
         "x": [
          0.0549199776705852,
          0.1139318495574234,
          0.4858357229118433,
          0.0347834702248077,
          0.1734194866519328,
          0.4945222429312966,
          0.3956192689883948,
          0.4166107402363949,
          0.2815618163459532,
          0.2973277109549653,
          0.4083959607493189,
          0.1241693527325554,
          0.3894406031243618,
          0.3964354395960286,
          0.1458646745280846,
          0.2747055738629442,
          0.4012717735432355,
          0.1855387168161011,
          0.3963314518823213,
          0.0177327309204685,
          0.1400300790792369,
          0.2162706728859388,
          0.1873990971705809,
          0.2314826557552886,
          0.3114023497793739,
          0.3328625061028532,
          0.1577988612237635,
          0.3252369352606895,
          0.0252638133600685,
          0.4251762861519489,
          0.2188740734471959,
          0.0629012965428213,
          0.0826835745735786,
          0.2968286973885793,
          0.1966431554210752,
          0.3027220090476635,
          0.154499895515446,
          0.2577200264979833,
          0.3308093491863397,
          0.2801542619110014,
          0.4340912346941329,
          0.2207342714165293,
          0.2053777902859071,
          0.3675101287409071,
          0.1631365498595152,
          0.2423912639386603,
          0.0518285350924935,
          0.2216194940903527,
          0.4787460656849842,
          0.2852248569691668,
          0.2112962301318575,
          0.438067612394816,
          0.4711536357375925,
          0.2172390593243028,
          0.4587633987763504,
          0.1509384097471903,
          0.2462728041401504,
          0.4251646755861267,
          0.066293803629851,
          0.2202650813320728,
          0.3860419406073477,
          0.3407385885337187,
          0.2828024800335196,
          0.3323373017194553,
          0.3498008820492728,
          0.1439024904692351,
          0.3835806638106889,
          0.0988887235241586,
          0.0801932302675942,
          0.3730748389680258,
          0.4861870561914293,
          0.0549612646966782,
          0.2699365174428754,
          0.1943352587947094,
          0.0871305451640934,
          0.162702311155066,
          0.168947617118429,
          0.3021496483804952,
          0.3796735807712428,
          0.034383621292149,
          0.1156287930154959,
          0.2610496898425413,
          0.1791346991856223,
          0.0643359883784559,
          0.3006357826922092,
          0.2681977125025909,
          0.1611255020071156,
          0.118054033396237,
          0.4923783725773485,
          0.0368431596738596,
          0.1101673309333285,
          0.4732088027410555,
          0.386001268381216,
          0.1518290942965444,
          0.068792328415719,
          0.0733009938620153,
          0.2709653504550376,
          0.2837745481606092,
          0.2045648753811756,
          0.3736002504134781,
          0.2237476018010329,
          0.3236694178333136,
          0.1518624507370215,
          0.2084658304618277,
          0.4743310115701062,
          0.2354474819279662,
          0.347908920129293,
          0.1873078187047216,
          0.0618729353638371,
          0.2062204099948827,
          0.3754443649676554,
          0.1185703088581831,
          0.0474258949617803,
          0.3202800868144114,
          0.2699963621785976,
          0.1050128160707811,
          0.3903518323689243,
          0.1820388701291066,
          0.0603742186111037,
          0.0950145209966264,
          0.0849061966129056,
          0.0469231040537476,
          0.4422035967305375,
          0.3250659970290673,
          0.1683720384052467,
          0.4857768014619985,
          0.1649080583003843,
          0.2397713309279229,
          0.3193787088124604,
          0.2997956808472002,
          0.1824516890838375,
          0.0463534215249109,
          0.2362538183587625,
          0.0284275503298351,
          0.1906814237500082,
          0.1506677459746464,
          0.488910580941243,
          0.0542452869665183,
          0.3010991111283245,
          0.1983964135254078,
          0.0301011297879331,
          0.2901117763623621,
          0.2556699779176855,
          0.4203148173413016,
          0.4913689347357647,
          0.3266022746604223,
          0.0291796418383301,
          0.3567346351184066,
          0.2667935910533855,
          0.1883100002459992,
          0.4597890266673106,
          0.3426598830741947,
          0.1739781801573694,
          0.2834019740850171,
          0.1994164603146315,
          0.4272674673923581,
          0.4825609140404158,
          0.3053233986937034,
          0.3351699319429688,
          0.1620135514003879,
          0.3573286670418164,
          0.0515123158819609,
          0.1709535115842561,
          0.0726189444091695,
          0.4740832259654968,
          0.4570995128745789,
          0.2591593583471757,
          0.018932963517851,
          0.1613443743313016,
          0.4760729636621058,
          0.1774488491144586,
          0.1040825644955492,
          0.0859231347427583,
          0.1549381298107646,
          0.2744876716226988,
          0.2680004984773417,
          0.3343453263119946,
          0.4394324585459435,
          0.0855838530473495,
          0.0986145239126613,
          0.349494364022001,
          0.3161228351774172,
          0.3633796689246593,
          0.031409289697712,
          0.4850984156702262,
          0.3786716709046281,
          0.3940621761230729,
          0.1271925636503045,
          0.3943414174006703,
          0.4529474256873545,
          0.22589272771942,
          0.3870248904680322,
          0.3912807782524637,
          0.2564242788289136,
          0.3062850893126076,
          0.4678038414587748,
          0.3585864787883103,
          0.0710921082621878,
          0.0885530437802354,
          0.2301664179831746,
          0.4101845953691952,
          0.4659312442918747,
          0.2042624430804214,
          0.1992213978418515,
          0.0499866642334104,
          0.0585507309525935,
          0.0815641603426918,
          0.3115206460101387,
          0.4538701696606027,
          0.0832646132924711,
          0.2173948318845149,
          0.0697056891277225,
          0.2549163188964287,
          0.3196579215864398,
          0.2917732541900104,
          0.0107665246073655,
          0.1828798594167565,
          0.1017838167812074,
          0.3374253024306211,
          0.2665074332623235,
          0.1866958412763689,
          0.4771678022129023,
          0.2766001603647364,
          0.2587350685263757,
          0.0313318683317205,
          0.1849759994922191,
          0.0431041832935304,
          0.1281517029489658,
          0.3319811560053073,
          0.2951326275634886,
          0.380772673956559,
          0.1826265325959528,
          0.1758881565080534,
          0.324969851939333,
          0.3454944575404019,
          0.4723665238489433,
          0.4440372889528715,
          0.2051297872861483,
          0.027944178053085,
          0.1501943388202588,
          0.143876136995798,
          0.4016777816439374,
          0.2241061777312188,
          0.2060106695757863,
          0.4786745717335934,
          0.1761279479199987,
          0.1015404366190699,
          0.2180048340460228,
          0.2209975044816889,
          0.1539455453112244,
          0.1548635751767677,
          0.229093533238426,
          0.4566875431146774,
          0.3978241361265864,
          0.2614121495376305,
          0.0883934960280865,
          0.0252589033541227,
          0.3422635472777699,
          0.224704684220638,
          0.1256377364059726,
          0.1874537854462761,
          0.4752388848211606,
          0.1917726086995494,
          0.0226975370234301,
          0.2636951843621121,
          0.4576358278484614,
          0.3897325969304292,
          0.3549785274913447,
          0.1151395084576226,
          0.3098198195541848,
          0.350050514109989,
          0.4993281333199746,
          0.1080873870856488,
          0.0765069246879583,
          0.0462854991965064,
          0.0946016183521801,
          0.4986585779712905,
          0.4071514769952396,
          0.3576748385415982,
          0.2794986022685763,
          0.1522775185611286,
          0.0871775721668188,
          0.3576862576930893,
          0.1198783914705187,
          0.4927149478977947,
          0.398112180069459,
          0.1260007303005665,
          0.1868392969777472,
          0.2904159294870977,
          0.4432807589489638,
          0.2050983905777451,
          0.2112896091259317,
          0.1653435585256361,
          0.2382582678143188,
          0.0732261493204754,
          0.2564032553601936,
          0.263870045132768,
          0.1204804395105786,
          0.149183672029581,
          0.106187940546706,
          0.3240838393765061,
          0.2999861382051365,
          0.2945167855587243,
          0.0938883052973382,
          0.175433597436843,
          0.0497991988977512,
          0.4747879584454918,
          0.1396813948381967,
          0.2903472291985714,
          0.0874594190374515,
          0.2136546556449164,
          0.2375766573099141,
          0.0803976586696909,
          0.4321276876479224,
          0.1664650323968967,
          0.494131451038874,
          0.2623402657002888,
          0.0620301274684576,
          0.0700357354511403,
          0.0790300411540099,
          0.4732385974245772,
          0.4334402866775911,
          0.481716067597275,
          0.4521323052663566,
          0.4675382522722083,
          0.1030187095994462,
          0.0880777818273761,
          0.2026886702155156,
          0.2340430146729681,
          0.0338424851355314,
          0.1478646058030289,
          0.3395350958450702,
          0.1500167069060986,
          0.014006928914148,
          0.0626735713418916,
          0.1395917208975475,
          0.1892310434899465,
          0.2075944953360356,
          0.035067266817674,
          0.4144025457997206,
          0.3153883735343465,
          0.3094111391769155,
          0.0730450614377154,
          0.1928671847991618,
          0.4935259555738553,
          0.2833376007533431,
          0.1891471228743563,
          0.0806910060907778,
          0.3052068460693212,
          0.2066796712952716,
          0.2644730280632108,
          0.0829809256424579,
          0.1660797155620604,
          0.2025477480545767,
          0.4228749444084229,
          0.2585843432386353,
          0.2597599093679079,
          0.2500248595124669,
          0.2426973739990363,
          0.0181521081961343,
          0.1723074008536721,
          0.0637062488507481,
          0.4373285659189625,
          0.1214961803964231,
          0.0351640309089899,
          0.3895570036185674,
          0.1962932647944248,
          0.4126140326526476,
          0.1286763144692,
          0.3532552464593113,
          0.1034843206351943,
          0.1099069245240459,
          0.2410866772955706,
          0.4990802055186862,
          0.2444017818382665,
          0.3411756025126203,
          0.3435654858888794,
          0.4790953241347847,
          0.156264588983244,
          0.3878753918529453,
          0.3554014590499261,
          0.2846389192157476,
          0.4678978407364235,
          0.1510167939939968,
          0.203320903264023,
          0.1791159908306475,
          0.3888015210946035,
          0.0817732997411623,
          0.4781037216628285,
          0.4627647196260414,
          0.3314263047699447,
          0.3761958648618224,
          0.4156963347189365,
          0.1428550337790081,
          0.4535402535662824,
          0.1240899143049168,
          0.171843875508796,
          0.2414779144470915,
          0.3437840734249008,
          0.3299174708736369,
          0.3803964191102823,
          0.4266632197720408,
          0.028276140820105,
          0.2147636413000526,
          0.4676220791833181,
          0.3770115687060681,
          0.1518388183385443,
          0.0283584262023934,
          0.3053636530978779,
          0.1741706357109189,
          0.3242430806623193,
          0.266916082069405,
          0.0757579735444431,
          0.2570642100224657,
          0.3276598159675284,
          0.3404565585484247,
          0.1046490309833921,
          0.3093677048348768,
          0.208690283635445,
          0.2195745926535689,
          0.2064082908476544,
          0.0567387018393187,
          0.2439525082600475,
          0.0133467590643821,
          0.1979514514312551,
          0.1408272202124972,
          0.1861805243749664,
          0.1257882629367777,
          0.2380435455615454,
          0.0882612443615059,
          0.3461760737466441,
          0.4623219468340873,
          0.3872221132545113,
          0.3229685493476978,
          0.4709114556354912,
          0.2329395496576284,
          0.3539509561592706,
          0.457270475258721,
          0.2674982615478821,
          0.4594499063226779,
          0.0649823078532624,
          0.0906232067255499,
          0.3433446665901447,
          0.3612898034285184,
          0.228286519171738,
          0.0746527265123385,
          0.2135580411838833,
          0.2838106275093955,
          0.339656178991411,
          0.1610030863762441,
          0.0114775810796334,
          0.045784467698574,
          0.2176117185415263,
          0.4481670382158412,
          0.4932072515603157,
          0.2413148884143686,
          0.0763601445798244,
          0.4467534665570781,
          0.4593863875740467,
          0.1949732113187485,
          0.0493224963883896,
          0.0751650051044799,
          0.068130251969785,
          0.20259872957418,
          0.2368719115854421,
          0.3623560477553175,
          0.1958454693365589,
          0.2357063864888121,
          0.0860094728698459,
          0.0257864843058907,
          0.3334968660431198,
          0.3113123715323671,
          0.4687565858888681,
          0.0429725424158527,
          0.3010326322648851,
          0.2287561224618151,
          0.3392915820673873,
          0.2744823063646399,
          0.3902711745177029,
          0.4590345462295678,
          0.2929626591725621,
          0.1260829770405931,
          0.4929908247553116,
          0.1448254210492166,
          0.3702539335688431,
          0.09581526224864
         ]
        },
        {
         "name": "Dark Theme",
         "opacity": 0.6,
         "type": "histogram",
         "x": [
          0.3233515300795548,
          0.1105507318200094,
          0.3020310012354658,
          0.4921737846053921,
          0.4938883791394244,
          0.0638639104658234,
          0.4345594653683325,
          0.0745835824853297,
          0.2985379318047167,
          0.0721116864192623,
          0.0656881603254078,
          0.0411434386920967,
          0.2296548549922432,
          0.3008963487553333,
          0.1185593806449596,
          0.3663490686102302,
          0.4552883270742047,
          0.4993075099937702,
          0.3590766442995772,
          0.2273455413878742,
          0.450640714910532,
          0.1678347916756997,
          0.0718338782694774,
          0.3159155721977918,
          0.3589548702488904,
          0.2207976696535754,
          0.3986170856198066,
          0.066062895490739,
          0.4400760444014648,
          0.4451646007743615,
          0.2127686498766876,
          0.4154354201422219,
          0.1631486914985951,
          0.1348960002765618,
          0.4772603336333711,
          0.3465423073788186,
          0.0547001462993638,
          0.3748485949040207,
          0.1925969610941927,
          0.0737565722511832,
          0.0393906792057148,
          0.338306499718825,
          0.0352085791864642,
          0.1630999605529504,
          0.0607642773030703,
          0.258632148014322,
          0.0858177861705481,
          0.1815558571683836,
          0.2825700832911201,
          0.1464984241225496,
          0.1208179562206452,
          0.2848731938565361,
          0.3146446646798469,
          0.3084075086210019,
          0.0241870587200214,
          0.4615533853062546,
          0.182001476161121,
          0.3320988710700298,
          0.0440968564116848,
          0.2322864374297785,
          0.471289637745327,
          0.4428376704139882,
          0.0862341526681992,
          0.0499749484906374,
          0.2271253574218597,
          0.2177672388253676,
          0.3074672436460975,
          0.212950031562535,
          0.3423267675374318,
          0.3844388389230113,
          0.2537188110205301,
          0.2210209555632654,
          0.1227542508775632,
          0.3373436041551685,
          0.183541913966216,
          0.2352795826745747,
          0.0481526798191212,
          0.1633997090318947,
          0.2203493002874094,
          0.2081672134075648,
          0.4834378486062318,
          0.0942178584832538,
          0.2239887719884316,
          0.223481498200796,
          0.0485370728666013,
          0.4365569639357517,
          0.3917677556155997,
          0.4795294410086037,
          0.3262670583230863,
          0.082368019638745,
          0.1354244287808476,
          0.3819846662223295,
          0.4761331488839951,
          0.317694898338,
          0.2373370035713795,
          0.2862303868110463,
          0.29393936395618,
          0.3437554043742685,
          0.493400654390571,
          0.2254837800075133,
          0.4002015427841998,
          0.3258865700921603,
          0.2943614096314834,
          0.4775734235941672,
          0.3720713122858078,
          0.4554344787210956,
          0.1022373378839202,
          0.3064528586943315,
          0.4792839558446266,
          0.2307563234173947,
          0.4073737375480841,
          0.0513212746920362,
          0.4955831510969748,
          0.3088046490981104,
          0.1998341141663268,
          0.3894877464011304,
          0.035659103592643,
          0.3191344214765699,
          0.1715484700076871,
          0.1334779346334151,
          0.0836829303454413,
          0.0499359738494631,
          0.4592057629779889,
          0.3314668118376671,
          0.3344462268952982,
          0.0731863125530644,
          0.2838718143446211,
          0.3253116990470465,
          0.3543871273561559,
          0.4986104153532764,
          0.0557919528823506,
          0.3385234596391701,
          0.3854165417572315,
          0.499988544340484,
          0.3961788850989861,
          0.2587679592350766,
          0.3719355614707191,
          0.3128354180918189,
          0.3026507561250979,
          0.4523014315300747,
          0.1885067129240768,
          0.3625969801574185,
          0.3091917568416497,
          0.1246614427243579,
          0.4831423522250778,
          0.1050679263490592,
          0.3423703442818953,
          0.2895055027483068,
          0.2151438050975754,
          0.0894085048904769,
          0.1078518884078936,
          0.4377709408290801,
          0.0355681035978922,
          0.2454894211762942,
          0.191893932236172,
          0.2627955999007177,
          0.0510988114321771,
          0.2615428415849867,
          0.417212892132711,
          0.0549396491329557,
          0.4561474273264305,
          0.4434685891218236,
          0.2132994838513126,
          0.1932411289627198,
          0.1200239917174867,
          0.1661555889703683,
          0.3602050935363824,
          0.1742922743989267,
          0.0287685636473514,
          0.4595241240902482,
          0.2415029171934371,
          0.4172441381067664,
          0.3818321658351475,
          0.2398639623061919,
          0.0193119036063754,
          0.1156708247894936,
          0.4707107151772458,
          0.3083512485668662,
          0.3903245899913443,
          0.1264437110540575,
          0.1268353566953131,
          0.323086348764677,
          0.3151771784870749,
          0.0407755039954212,
          0.4199769830966143,
          0.27266635431389,
          0.3620867206182528,
          0.1527232740098763,
          0.2896252208509901,
          0.3953420445642056,
          0.0199638100812012,
          0.4379324048784836,
          0.1995718475484052,
          0.1929181696794079,
          0.3761851298656962,
          0.0607952950748478,
          0.0753706990310883,
          0.4168879918141653,
          0.4906014010365361,
          0.2444802740927827,
          0.0993162192227978,
          0.0760777647861783,
          0.3608620782221354,
          0.0281220571978901,
          0.1087795864899834,
          0.3976435144822315,
          0.1646419518243654,
          0.161937182639077,
          0.4095489795214313,
          0.2419658861616533,
          0.3269812444123676,
          0.4324478799299326,
          0.0334239767807807,
          0.331308370103263,
          0.2254709505168524,
          0.3491135606451814,
          0.1899999942102441,
          0.4006725313845661,
          0.1406931409430694,
          0.0504796382506925,
          0.4975981007735969,
          0.0984236781096641,
          0.060272974813236,
          0.1706807536173643,
          0.2284987239188298,
          0.3616548265427118,
          0.0916559383122976,
          0.227515106739536,
          0.3661390538984403,
          0.3112772262773945,
          0.2231208470056364,
          0.3233399621413154,
          0.0381054515150947,
          0.3388801055578972,
          0.2090430134387497,
          0.377450012288326,
          0.4258479618855619,
          0.0718527119081045,
          0.3261298090927373,
          0.0258688087500368,
          0.0851847000624269,
          0.230462058670249,
          0.2275302516960456,
          0.0476738601268952,
          0.0774706028359781,
          0.1898054748403778,
          0.1640488662442919,
          0.1465579854869075,
          0.4806548256098465,
          0.1011635442415739,
          0.0677028877904308,
          0.3595512482382691,
          0.4841050058179005,
          0.4934215832248181,
          0.3372414973395943,
          0.1569787723360017,
          0.3531074354236797,
          0.095304594776863,
          0.1871311697310977,
          0.2520707493489919,
          0.2390288612529206,
          0.491675859244965,
          0.0735879025597475,
          0.0422165715810093,
          0.3612974632698754,
          0.2445459038584744,
          0.2106224284577094,
          0.2917012491534489,
          0.071410123307005,
          0.046340859685,
          0.2635064057917314,
          0.0728839592650567,
          0.4162363267863455,
          0.280138687368475,
          0.2980151352968956,
          0.3862130023052518,
          0.4354236974355004,
          0.4173814951690953,
          0.1590210259756592,
          0.0893638101823908,
          0.4680215399531479,
          0.4742667370367273,
          0.2642599187680609,
          0.0486413533448919,
          0.478612297251167,
          0.1444810062746215,
          0.3162609571098093,
          0.311069856371017,
          0.0557799193729522,
          0.3159948018424962,
          0.4519804379084561,
          0.4627255654049876,
          0.0301852087256742,
          0.4332527838938162,
          0.387800960709288,
          0.1132961060539626,
          0.3128731288992292,
          0.024840090304901,
          0.4456084719099876,
          0.2773329669381612,
          0.324534571757604,
          0.1580261153477651,
          0.1299901762179821,
          0.4056011640701109,
          0.2089853381048336,
          0.2322366251480339,
          0.347420650119762,
          0.1766943584923709,
          0.1792315747434893,
          0.2053711375152722,
          0.3827258474496356,
          0.1284515518588689,
          0.2303020458778757,
          0.0347965929821422,
          0.2148860242340895,
          0.4086041447553303,
          0.3633529301228397,
          0.4980250114367542,
          0.2387394076913018,
          0.4407470751642051,
          0.2537114337932794,
          0.0541240565714543,
          0.1279570339278933,
          0.2958386148729815,
          0.3027841977949912,
          0.4229963269873515,
          0.0756281225562341,
          0.0321687733105196,
          0.2852902639313124,
          0.1876366502126994,
          0.1514148315491569,
          0.1993109242400914,
          0.2306736465138048,
          0.2794299738635356,
          0.0573739281521202,
          0.0297249040171402,
          0.0290678434606479,
          0.3596600046991552,
          0.4039432690451639,
          0.4476345291182235,
          0.078492683028454,
          0.466370680409695,
          0.3120852388610429,
          0.3009250812591835,
          0.2858328877158267,
          0.214104732021794,
          0.1607621385187645,
          0.4503958810523812,
          0.318337635495194,
          0.3024857118170649,
          0.1401099141230034,
          0.3312395763667148,
          0.4863078633719637,
          0.2934524227905337,
          0.2454199040200628,
          0.2668738429860947,
          0.363379589272071,
          0.2905594329880217,
          0.2261088974305191,
          0.2152023461029031,
          0.2123504537965739,
          0.2558915572593839,
          0.309624249346966,
          0.425704727475049,
          0.36642702848105,
          0.3558298637543649,
          0.2641547736644554,
          0.2848345187252332,
          0.1946441403309909,
          0.4787758911763086,
          0.2352351306895974,
          0.2712322616408783,
          0.2776738774299668,
          0.4351506576929467,
          0.4037897397557163,
          0.139537469811272,
          0.2472482498303758,
          0.1467131340016607,
          0.471327917700456,
          0.4913075452732379,
          0.3482175566661674,
          0.2496115089606491,
          0.24510367736901,
          0.3636155455112024,
          0.2910036338980861,
          0.2761635297242563,
          0.4489226261547108,
          0.0306125785480355,
          0.0487244236448266,
          0.1148535359577336,
          0.2853888296419675,
          0.1430945186858158,
          0.0635210249698292,
          0.3730365785773615,
          0.127248212313685,
          0.0348750606791573,
          0.1205791066780152,
          0.0590969999322121,
          0.0773588467578508,
          0.4826141959404405,
          0.4891762487982127,
          0.0873911273433614,
          0.4415172540427432,
          0.2430928257402015,
          0.32876395901839,
          0.1507500684065533,
          0.149853517237976,
          0.0389896672583304,
          0.3866752468335312,
          0.329626377905349,
          0.1237878976182983,
          0.3719563959116314,
          0.4615207320882509,
          0.420426395655695,
          0.0278065261141522,
          0.4197395670751284,
          0.3961007086391606,
          0.1012926996420195,
          0.4374224357587058,
          0.1562121832244195,
          0.4649428745483384,
          0.2326310482968295,
          0.445737382247259,
          0.1436901699340163,
          0.4063188003390797,
          0.1720352074475749,
          0.3682484245662993,
          0.3621131049933846,
          0.0169012558530477,
          0.1751849678715776,
          0.1545618862525581,
          0.3229756391014974,
          0.1706840627826862,
          0.4910257442958639,
          0.4685544396306803,
          0.2289004056851622,
          0.1715163986232389,
          0.2954057682619425,
          0.290709900301721,
          0.1381610438995424,
          0.3372151962513489,
          0.4450226928647082,
          0.3482422849352189,
          0.1900965125200634,
          0.1182161275846735,
          0.479106663059061,
          0.2443091308702597,
          0.4945306013287013,
          0.1930761725735988,
          0.3811017564191197,
          0.4029775459722152,
          0.4145457194523639,
          0.3833112137858425,
          0.343367540760505,
          0.3019490881102992,
          0.395811638013396,
          0.2688048307958647,
          0.1872745855768794,
          0.4160992864396283,
          0.4524151985175062,
          0.1090568216936574,
          0.2729634775476728,
          0.428698143623526,
          0.2265018708032191,
          0.2495257037472829,
          0.4504557823396021,
          0.0372615448548035,
          0.2863164806983695,
          0.0206675243676816,
          0.1346840373431301,
          0.1167716412497499,
          0.3531885902676162,
          0.2751701169991537,
          0.0395252593453643,
          0.1506744463767468,
          0.0981908501445971,
          0.3243472500844546,
          0.3673518546408533,
          0.4822534577993851,
          0.1934858511127511,
          0.229783195004716,
          0.4824307444265361,
          0.4385313236285532,
          0.4315404247522894,
          0.4964949202780176,
          0.0724000727880782,
          0.4895749447429046,
          0.4190625897176706,
          0.3805279132808767,
          0.4894604345127781,
          0.2178227345693667,
          0.1225353927260703,
          0.1023554211060037,
          0.4388520055656264,
          0.385090065339907,
          0.4456302575593176,
          0.1279264841301738,
          0.437384084715332,
          0.1299197340970123,
          0.0316759977274389,
          0.2250917776288557,
          0.3796489972861693,
          0.0786664318063032,
          0.4968068862090937,
          0.1247391433994118,
          0.2922940644343406,
          0.3885437241162406,
          0.4110074196541749,
          0.4393665778651655,
          0.2654130165898125,
          0.2126445011589338,
          0.2827918778715649,
          0.2999168898989245,
          0.3425875604102632
         ]
        }
       ],
       "layout": {
        "bargap": 0.1,
        "barmode": "group",
        "template": {
         "data": {
          "bar": [
           {
            "error_x": {
             "color": "#2a3f5f"
            },
            "error_y": {
             "color": "#2a3f5f"
            },
            "marker": {
             "line": {
              "color": "#E5ECF6",
              "width": 0.5
             },
             "pattern": {
              "fillmode": "overlay",
              "size": 10,
              "solidity": 0.2
             }
            },
            "type": "bar"
           }
          ],
          "barpolar": [
           {
            "marker": {
             "line": {
              "color": "#E5ECF6",
              "width": 0.5
             },
             "pattern": {
              "fillmode": "overlay",
              "size": 10,
              "solidity": 0.2
             }
            },
            "type": "barpolar"
           }
          ],
          "carpet": [
           {
            "aaxis": {
             "endlinecolor": "#2a3f5f",
             "gridcolor": "white",
             "linecolor": "white",
             "minorgridcolor": "white",
             "startlinecolor": "#2a3f5f"
            },
            "baxis": {
             "endlinecolor": "#2a3f5f",
             "gridcolor": "white",
             "linecolor": "white",
             "minorgridcolor": "white",
             "startlinecolor": "#2a3f5f"
            },
            "type": "carpet"
           }
          ],
          "choropleth": [
           {
            "colorbar": {
             "outlinewidth": 0,
             "ticks": ""
            },
            "type": "choropleth"
           }
          ],
          "contour": [
           {
            "colorbar": {
             "outlinewidth": 0,
             "ticks": ""
            },
            "colorscale": [
             [
              0,
              "#0d0887"
             ],
             [
              0.1111111111111111,
              "#46039f"
             ],
             [
              0.2222222222222222,
              "#7201a8"
             ],
             [
              0.3333333333333333,
              "#9c179e"
             ],
             [
              0.4444444444444444,
              "#bd3786"
             ],
             [
              0.5555555555555556,
              "#d8576b"
             ],
             [
              0.6666666666666666,
              "#ed7953"
             ],
             [
              0.7777777777777778,
              "#fb9f3a"
             ],
             [
              0.8888888888888888,
              "#fdca26"
             ],
             [
              1,
              "#f0f921"
             ]
            ],
            "type": "contour"
           }
          ],
          "contourcarpet": [
           {
            "colorbar": {
             "outlinewidth": 0,
             "ticks": ""
            },
            "type": "contourcarpet"
           }
          ],
          "heatmap": [
           {
            "colorbar": {
             "outlinewidth": 0,
             "ticks": ""
            },
            "colorscale": [
             [
              0,
              "#0d0887"
             ],
             [
              0.1111111111111111,
              "#46039f"
             ],
             [
              0.2222222222222222,
              "#7201a8"
             ],
             [
              0.3333333333333333,
              "#9c179e"
             ],
             [
              0.4444444444444444,
              "#bd3786"
             ],
             [
              0.5555555555555556,
              "#d8576b"
             ],
             [
              0.6666666666666666,
              "#ed7953"
             ],
             [
              0.7777777777777778,
              "#fb9f3a"
             ],
             [
              0.8888888888888888,
              "#fdca26"
             ],
             [
              1,
              "#f0f921"
             ]
            ],
            "type": "heatmap"
           }
          ],
          "heatmapgl": [
           {
            "colorbar": {
             "outlinewidth": 0,
             "ticks": ""
            },
            "colorscale": [
             [
              0,
              "#0d0887"
             ],
             [
              0.1111111111111111,
              "#46039f"
             ],
             [
              0.2222222222222222,
              "#7201a8"
             ],
             [
              0.3333333333333333,
              "#9c179e"
             ],
             [
              0.4444444444444444,
              "#bd3786"
             ],
             [
              0.5555555555555556,
              "#d8576b"
             ],
             [
              0.6666666666666666,
              "#ed7953"
             ],
             [
              0.7777777777777778,
              "#fb9f3a"
             ],
             [
              0.8888888888888888,
              "#fdca26"
             ],
             [
              1,
              "#f0f921"
             ]
            ],
            "type": "heatmapgl"
           }
          ],
          "histogram": [
           {
            "marker": {
             "pattern": {
              "fillmode": "overlay",
              "size": 10,
              "solidity": 0.2
             }
            },
            "type": "histogram"
           }
          ],
          "histogram2d": [
           {
            "colorbar": {
             "outlinewidth": 0,
             "ticks": ""
            },
            "colorscale": [
             [
              0,
              "#0d0887"
             ],
             [
              0.1111111111111111,
              "#46039f"
             ],
             [
              0.2222222222222222,
              "#7201a8"
             ],
             [
              0.3333333333333333,
              "#9c179e"
             ],
             [
              0.4444444444444444,
              "#bd3786"
             ],
             [
              0.5555555555555556,
              "#d8576b"
             ],
             [
              0.6666666666666666,
              "#ed7953"
             ],
             [
              0.7777777777777778,
              "#fb9f3a"
             ],
             [
              0.8888888888888888,
              "#fdca26"
             ],
             [
              1,
              "#f0f921"
             ]
            ],
            "type": "histogram2d"
           }
          ],
          "histogram2dcontour": [
           {
            "colorbar": {
             "outlinewidth": 0,
             "ticks": ""
            },
            "colorscale": [
             [
              0,
              "#0d0887"
             ],
             [
              0.1111111111111111,
              "#46039f"
             ],
             [
              0.2222222222222222,
              "#7201a8"
             ],
             [
              0.3333333333333333,
              "#9c179e"
             ],
             [
              0.4444444444444444,
              "#bd3786"
             ],
             [
              0.5555555555555556,
              "#d8576b"
             ],
             [
              0.6666666666666666,
              "#ed7953"
             ],
             [
              0.7777777777777778,
              "#fb9f3a"
             ],
             [
              0.8888888888888888,
              "#fdca26"
             ],
             [
              1,
              "#f0f921"
             ]
            ],
            "type": "histogram2dcontour"
           }
          ],
          "mesh3d": [
           {
            "colorbar": {
             "outlinewidth": 0,
             "ticks": ""
            },
            "type": "mesh3d"
           }
          ],
          "parcoords": [
           {
            "line": {
             "colorbar": {
              "outlinewidth": 0,
              "ticks": ""
             }
            },
            "type": "parcoords"
           }
          ],
          "pie": [
           {
            "automargin": true,
            "type": "pie"
           }
          ],
          "scatter": [
           {
            "fillpattern": {
             "fillmode": "overlay",
             "size": 10,
             "solidity": 0.2
            },
            "type": "scatter"
           }
          ],
          "scatter3d": [
           {
            "line": {
             "colorbar": {
              "outlinewidth": 0,
              "ticks": ""
             }
            },
            "marker": {
             "colorbar": {
              "outlinewidth": 0,
              "ticks": ""
             }
            },
            "type": "scatter3d"
           }
          ],
          "scattercarpet": [
           {
            "marker": {
             "colorbar": {
              "outlinewidth": 0,
              "ticks": ""
             }
            },
            "type": "scattercarpet"
           }
          ],
          "scattergeo": [
           {
            "marker": {
             "colorbar": {
              "outlinewidth": 0,
              "ticks": ""
             }
            },
            "type": "scattergeo"
           }
          ],
          "scattergl": [
           {
            "marker": {
             "colorbar": {
              "outlinewidth": 0,
              "ticks": ""
             }
            },
            "type": "scattergl"
           }
          ],
          "scattermapbox": [
           {
            "marker": {
             "colorbar": {
              "outlinewidth": 0,
              "ticks": ""
             }
            },
            "type": "scattermapbox"
           }
          ],
          "scatterpolar": [
           {
            "marker": {
             "colorbar": {
              "outlinewidth": 0,
              "ticks": ""
             }
            },
            "type": "scatterpolar"
           }
          ],
          "scatterpolargl": [
           {
            "marker": {
             "colorbar": {
              "outlinewidth": 0,
              "ticks": ""
             }
            },
            "type": "scatterpolargl"
           }
          ],
          "scatterternary": [
           {
            "marker": {
             "colorbar": {
              "outlinewidth": 0,
              "ticks": ""
             }
            },
            "type": "scatterternary"
           }
          ],
          "surface": [
           {
            "colorbar": {
             "outlinewidth": 0,
             "ticks": ""
            },
            "colorscale": [
             [
              0,
              "#0d0887"
             ],
             [
              0.1111111111111111,
              "#46039f"
             ],
             [
              0.2222222222222222,
              "#7201a8"
             ],
             [
              0.3333333333333333,
              "#9c179e"
             ],
             [
              0.4444444444444444,
              "#bd3786"
             ],
             [
              0.5555555555555556,
              "#d8576b"
             ],
             [
              0.6666666666666666,
              "#ed7953"
             ],
             [
              0.7777777777777778,
              "#fb9f3a"
             ],
             [
              0.8888888888888888,
              "#fdca26"
             ],
             [
              1,
              "#f0f921"
             ]
            ],
            "type": "surface"
           }
          ],
          "table": [
           {
            "cells": {
             "fill": {
              "color": "#EBF0F8"
             },
             "line": {
              "color": "white"
             }
            },
            "header": {
             "fill": {
              "color": "#C8D4E3"
             },
             "line": {
              "color": "white"
             }
            },
            "type": "table"
           }
          ]
         },
         "layout": {
          "annotationdefaults": {
           "arrowcolor": "#2a3f5f",
           "arrowhead": 0,
           "arrowwidth": 1
          },
          "autotypenumbers": "strict",
          "coloraxis": {
           "colorbar": {
            "outlinewidth": 0,
            "ticks": ""
           }
          },
          "colorscale": {
           "diverging": [
            [
             0,
             "#8e0152"
            ],
            [
             0.1,
             "#c51b7d"
            ],
            [
             0.2,
             "#de77ae"
            ],
            [
             0.3,
             "#f1b6da"
            ],
            [
             0.4,
             "#fde0ef"
            ],
            [
             0.5,
             "#f7f7f7"
            ],
            [
             0.6,
             "#e6f5d0"
            ],
            [
             0.7,
             "#b8e186"
            ],
            [
             0.8,
             "#7fbc41"
            ],
            [
             0.9,
             "#4d9221"
            ],
            [
             1,
             "#276419"
            ]
           ],
           "sequential": [
            [
             0,
             "#0d0887"
            ],
            [
             0.1111111111111111,
             "#46039f"
            ],
            [
             0.2222222222222222,
             "#7201a8"
            ],
            [
             0.3333333333333333,
             "#9c179e"
            ],
            [
             0.4444444444444444,
             "#bd3786"
            ],
            [
             0.5555555555555556,
             "#d8576b"
            ],
            [
             0.6666666666666666,
             "#ed7953"
            ],
            [
             0.7777777777777778,
             "#fb9f3a"
            ],
            [
             0.8888888888888888,
             "#fdca26"
            ],
            [
             1,
             "#f0f921"
            ]
           ],
           "sequentialminus": [
            [
             0,
             "#0d0887"
            ],
            [
             0.1111111111111111,
             "#46039f"
            ],
            [
             0.2222222222222222,
             "#7201a8"
            ],
            [
             0.3333333333333333,
             "#9c179e"
            ],
            [
             0.4444444444444444,
             "#bd3786"
            ],
            [
             0.5555555555555556,
             "#d8576b"
            ],
            [
             0.6666666666666666,
             "#ed7953"
            ],
            [
             0.7777777777777778,
             "#fb9f3a"
            ],
            [
             0.8888888888888888,
             "#fdca26"
            ],
            [
             1,
             "#f0f921"
            ]
           ]
          },
          "colorway": [
           "#636efa",
           "#EF553B",
           "#00cc96",
           "#ab63fa",
           "#FFA15A",
           "#19d3f3",
           "#FF6692",
           "#B6E880",
           "#FF97FF",
           "#FECB52"
          ],
          "font": {
           "color": "#2a3f5f"
          },
          "geo": {
           "bgcolor": "white",
           "lakecolor": "white",
           "landcolor": "#E5ECF6",
           "showlakes": true,
           "showland": true,
           "subunitcolor": "white"
          },
          "hoverlabel": {
           "align": "left"
          },
          "hovermode": "closest",
          "mapbox": {
           "style": "light"
          },
          "paper_bgcolor": "white",
          "plot_bgcolor": "#E5ECF6",
          "polar": {
           "angularaxis": {
            "gridcolor": "white",
            "linecolor": "white",
            "ticks": ""
           },
           "bgcolor": "#E5ECF6",
           "radialaxis": {
            "gridcolor": "white",
            "linecolor": "white",
            "ticks": ""
           }
          },
          "scene": {
           "xaxis": {
            "backgroundcolor": "#E5ECF6",
            "gridcolor": "white",
            "gridwidth": 2,
            "linecolor": "white",
            "showbackground": true,
            "ticks": "",
            "zerolinecolor": "white"
           },
           "yaxis": {
            "backgroundcolor": "#E5ECF6",
            "gridcolor": "white",
            "gridwidth": 2,
            "linecolor": "white",
            "showbackground": true,
            "ticks": "",
            "zerolinecolor": "white"
           },
           "zaxis": {
            "backgroundcolor": "#E5ECF6",
            "gridcolor": "white",
            "gridwidth": 2,
            "linecolor": "white",
            "showbackground": true,
            "ticks": "",
            "zerolinecolor": "white"
           }
          },
          "shapedefaults": {
           "line": {
            "color": "#2a3f5f"
           }
          },
          "ternary": {
           "aaxis": {
            "gridcolor": "white",
            "linecolor": "white",
            "ticks": ""
           },
           "baxis": {
            "gridcolor": "white",
            "linecolor": "white",
            "ticks": ""
           },
           "bgcolor": "#E5ECF6",
           "caxis": {
            "gridcolor": "white",
            "linecolor": "white",
            "ticks": ""
           }
          },
          "title": {
           "x": 0.05
          },
          "xaxis": {
           "automargin": true,
           "gridcolor": "white",
           "linecolor": "white",
           "ticks": "",
           "title": {
            "standoff": 15
           },
           "zerolinecolor": "white",
           "zerolinewidth": 2
          },
          "yaxis": {
           "automargin": true,
           "gridcolor": "white",
           "linecolor": "white",
           "ticks": "",
           "title": {
            "standoff": 15
           },
           "zerolinecolor": "white",
           "zerolinewidth": 2
          }
         }
        },
        "title": {
         "text": "Click Through Rate By Theme"
        },
        "xaxis": {
         "title": {
          "text": "Click Through Rate"
         }
        },
        "yaxis": {
         "title": {
          "text": "Frequency"
         }
        }
       }
      }
     },
     "metadata": {},
     "output_type": "display_data"
    }
   ],
   "source": [
    "# Create grouped bar chart for Click Through Rate \n",
    "\n",
    "fig = go.Figure()\n",
    "\n",
    "fig.add_trace(go.Histogram(x=light_theme_data['Click Through Rate'],name = 'Light Theme',opacity = 0.6))\n",
    "fig.add_trace(go.Histogram(x=dark_theme_data['Click Through Rate'],name = 'Dark Theme',opacity = 0.6))\n",
    "\n",
    "fig.update_layout(\n",
    "    title_text = 'Click Through Rate By Theme',\n",
    "    xaxis_title_text = 'Click Through Rate',\n",
    "    yaxis_title_text = 'Frequency',\n",
    "    barmode = 'group',\n",
    "    bargap = 0.1\n",
    ")\n",
    "fig.show()\n"
   ]
  },
  {
   "cell_type": "markdown",
   "metadata": {},
   "source": [
    "There no much difference between CTR for both the themes."
   ]
  },
  {
   "cell_type": "code",
   "execution_count": 11,
   "metadata": {},
   "outputs": [
    {
     "data": {
      "application/vnd.plotly.v1+json": {
       "config": {
        "plotlyServerURL": "https://plot.ly"
       },
       "data": [
        {
         "name": "Light Theme",
         "nbinsx": 20,
         "opacity": 0.6,
         "type": "histogram",
         "x": [
          0.2823668263320191,
          0.0329732075067029,
          0.3252248720002013,
          0.1967657699066717,
          0.2669868993474534,
          0.351191119581454,
          0.2100469966464983,
          0.1001006995861521,
          0.2735848495515005,
          0.1280744126154263,
          0.1204188287061515,
          0.4301952069007801,
          0.0807323570909374,
          0.2368823281543193,
          0.2122119696007313,
          0.2003253339156558,
          0.1349478663476929,
          0.1918279718258034,
          0.2724614128101356,
          0.0352529482658667,
          0.1948123077310565,
          0.0293783015614302,
          0.3390107558953518,
          0.1123556533906026,
          0.1585621325592672,
          0.1031116118387728,
          0.3733228494784603,
          0.3759708214535585,
          0.3796220640441121,
          0.3508568799954411,
          0.3548466055110948,
          0.2043497092903551,
          0.3278734565976052,
          0.4425778566573998,
          0.4033801446918102,
          0.3639826508615188,
          0.3831981949617585,
          0.1669143095465149,
          0.4334015723200463,
          0.0179477514906176,
          0.2811226661356653,
          0.2961756305678191,
          0.1227091267415991,
          0.2891968612249772,
          0.2798148409333668,
          0.2494243392615694,
          0.3724011044233429,
          0.2358062092396205,
          0.100183408702021,
          0.4457886195603538,
          0.4790460780171953,
          0.2667327635479989,
          0.4211435618615278,
          0.0464219016070825,
          0.4108179963188292,
          0.0131280739759816,
          0.1171726395026529,
          0.2334447328960026,
          0.4676128233380204,
          0.0177085657659176,
          0.211555869026534,
          0.3638744335966032,
          0.2725116704327231,
          0.2560858558002638,
          0.3519509473463605,
          0.4704588372691642,
          0.0978407520982477,
          0.128074727833619,
          0.3136926127818482,
          0.3995188027208987,
          0.0487194294690733,
          0.4800559191327797,
          0.2349088953200807,
          0.1291718681545122,
          0.1569875737665623,
          0.4157504185695564,
          0.0495022901172228,
          0.3284482813790221,
          0.1948130885573007,
          0.2432424990646266,
          0.1723226023261975,
          0.4888913194119971,
          0.4871814753616399,
          0.4484476939499229,
          0.1225855835794981,
          0.4516237499220466,
          0.3492209791012228,
          0.2877242320254083,
          0.1428365758271169,
          0.4628380406381975,
          0.3453700842971843,
          0.1473827767421507,
          0.2760850421795236,
          0.0978837065778338,
          0.4267095240510813,
          0.0806538650289526,
          0.4121384633275016,
          0.4651487207241309,
          0.2876810007466284,
          0.4262267883918191,
          0.341747133279574,
          0.0484295685990787,
          0.375273715014893,
          0.1794711541109625,
          0.0472489408171955,
          0.3065326841683147,
          0.3107939644745038,
          0.301848244401697,
          0.1699245570191485,
          0.3939385881004265,
          0.280988485225737,
          0.1939592280358485,
          0.2970788093934151,
          0.1962356296329953,
          0.388362028025998,
          0.1547359455454873,
          0.1307603928403793,
          0.0460182750239865,
          0.0855956763955286,
          0.1867431117758896,
          0.0548450100611571,
          0.2279205738481847,
          0.0606135343973959,
          0.0539132325605898,
          0.3024930320906747,
          0.3943749748838757,
          0.4332219068614139,
          0.2127669341863824,
          0.3917928617559579,
          0.2841729074236132,
          0.4964377980627477,
          0.1289438349773035,
          0.2653412200741144,
          0.3458048359793327,
          0.0930558551701279,
          0.1417702921297723,
          0.0815080621168084,
          0.091931626371975,
          0.1452213170851777,
          0.1568786044215659,
          0.3632407317032404,
          0.3121677080975371,
          0.013316011018481,
          0.4324771721771019,
          0.2257092315258141,
          0.4135322676685388,
          0.3290080605996432,
          0.3012525303416027,
          0.3055735215110083,
          0.244714773773773,
          0.0970422629463789,
          0.3700884390661814,
          0.3931674411057524,
          0.1473470717674666,
          0.3950746005217598,
          0.4667129047683384,
          0.1079020238681975,
          0.4986598136079181,
          0.0231888932509143,
          0.4720577085547138,
          0.0438877492494368,
          0.4254160857191074,
          0.0781977701212067,
          0.1583879948302385,
          0.0855301848833696,
          0.1947255008387783,
          0.2952995694160051,
          0.2718400265890374,
          0.4625129194631588,
          0.4361205249945621,
          0.214967339235441,
          0.4845297399622905,
          0.4080255180827076,
          0.30097177224389,
          0.1316331747340023,
          0.0915058617072546,
          0.3102121721335156,
          0.2859779431817533,
          0.4837374554486167,
          0.1724823840200991,
          0.4001532215693832,
          0.0619128302869827,
          0.118780528979237,
          0.3759579835400797,
          0.1183055507274827,
          0.2369009721908546,
          0.3429821888983926,
          0.0838650169151575,
          0.2465578314008502,
          0.1547617880540188,
          0.3677738542811635,
          0.1806810396375228,
          0.1781026736133768,
          0.3942922987890615,
          0.3637770322070568,
          0.021066706449525,
          0.1781081943028067,
          0.402024561617773,
          0.3728398475014965,
          0.2628370119294679,
          0.4009003362690899,
          0.1013295933889943,
          0.2038353652827755,
          0.4427177134654594,
          0.2302917555732991,
          0.1152500914844452,
          0.4000439449448603,
          0.3386436998299651,
          0.2498471496148434,
          0.2004332378472471,
          0.1824726129643896,
          0.3400585425342194,
          0.1269006359550074,
          0.1929199747725122,
          0.0792656862013353,
          0.2916549619884631,
          0.217289003215874,
          0.2733158422990301,
          0.4603888883901941,
          0.4660405194755702,
          0.0948850530528065,
          0.0917641066754206,
          0.1515290392841793,
          0.4225727549269085,
          0.4764025557391038,
          0.2851752178942012,
          0.3300041827003302,
          0.2104758307002586,
          0.2509456812117913,
          0.2274873539765385,
          0.0919542088397488,
          0.3999816359051893,
          0.1180594580853287,
          0.0260205925604546,
          0.1514484519691944,
          0.2906298864331935,
          0.2756012557676386,
          0.2262696240671955,
          0.3706344618405002,
          0.1312904961845083,
          0.4324778164937869,
          0.0526216729368586,
          0.4339923304843848,
          0.0675191529844664,
          0.1128403021189892,
          0.3714303611821137,
          0.3476754576847636,
          0.4086296340927625,
          0.4046658417514364,
          0.3024602660834535,
          0.1533910019827879,
          0.4094386438776577,
          0.3775461268796668,
          0.3313891758186757,
          0.1678273886885947,
          0.4233422717552999,
          0.2024233676480857,
          0.3198769714062765,
          0.3176282821816973,
          0.0470029739326059,
          0.3867532750637564,
          0.2073968789178922,
          0.2328008680464662,
          0.3516715991163934,
          0.3998821840574442,
          0.2048807754124452,
          0.4141753473416508,
          0.2524103243021894,
          0.1682039232990769,
          0.1489606072418393,
          0.2781821623682043,
          0.0739911826506974,
          0.4276870623813239,
          0.3962687902035743,
          0.4481357824388924,
          0.3835044709870259,
          0.316827965856388,
          0.4199840676426519,
          0.2336938866252541,
          0.4960007370221284,
          0.2196216574246877,
          0.455609535013418,
          0.4422524043805794,
          0.0557365924175686,
          0.1866133378646578,
          0.0503860600456851,
          0.3356093175922492,
          0.0353757647738409,
          0.3165460943408275,
          0.0546876017362776,
          0.1145763767036444,
          0.2645276847719515,
          0.0690909552141718,
          0.3500751905498342,
          0.15663511043186,
          0.1975333144440921,
          0.324372312773322,
          0.3090564272441707,
          0.1143971711975277,
          0.4607481210808295,
          0.070347039020741,
          0.3677044829590293,
          0.1822524637877335,
          0.2204004833408206,
          0.3258640784120699,
          0.149611196903103,
          0.4712268300975358,
          0.4250643102274733,
          0.1106684018946965,
          0.4454750187625848,
          0.0159128360716435,
          0.1869381214501183,
          0.1995507419243369,
          0.4210969184227763,
          0.2162231317836948,
          0.2777145483690619,
          0.0457660019261971,
          0.297808113493703,
          0.1157140398734447,
          0.474853198504091,
          0.1503790220469209,
          0.3591882472896128,
          0.2175518652341307,
          0.207115931215805,
          0.2734511254866649,
          0.05096256615113,
          0.0487205653677828,
          0.3839798242518154,
          0.3284213711598313,
          0.2243681610947817,
          0.4771797085908754,
          0.4630675996310782,
          0.0668334249567404,
          0.3100254292661538,
          0.0369640236463556,
          0.3324456566789933,
          0.09606649278497,
          0.0162058360641546,
          0.0155617955347745,
          0.3773904282059576,
          0.4379954276360169,
          0.3691385604019703,
          0.0678477929383578,
          0.1741554028949353,
          0.2203690389787441,
          0.2666885636098479,
          0.1388453289049743,
          0.4877747880113073,
          0.3174910881203734,
          0.2531123087782182,
          0.0870818907395517,
          0.3889311870964125,
          0.3729821816036417,
          0.0112585679559302,
          0.0160211557882294,
          0.1883484832023079,
          0.4609110071773937,
          0.0976908575465413,
          0.0273281512476782,
          0.4035265883642014,
          0.359870192802893,
          0.3312946142665368,
          0.166768217406544,
          0.2627293240345477,
          0.0325050125829794,
          0.3890284649578838,
          0.1622419092832316,
          0.05232890599232,
          0.2338056262128419,
          0.152881594421456,
          0.3944085364707973,
          0.4862102951239551,
          0.3689070350022406,
          0.2753571479748756,
          0.3216115013613645,
          0.371660503494258,
          0.1105452427238903,
          0.4865540256240222,
          0.1471143827258278,
          0.4242970754555017,
          0.2123978337154908,
          0.2945776074143703,
          0.2576596042917801,
          0.2032321317245582,
          0.0740470603556793,
          0.1529212517878827,
          0.4269477158364234,
          0.4637605563730019,
          0.4176309189969517,
          0.2318513476346312,
          0.1244695010527732,
          0.4723417961547463,
          0.3873718438782315,
          0.0633966885220346,
          0.2314393676897196,
          0.4277162709739628,
          0.4057224832934653,
          0.1590653416136613,
          0.355305353935586,
          0.3584671251597047,
          0.1564319483748206,
          0.0599346008443042,
          0.3989667739607289,
          0.040217900401968,
          0.118921185017008,
          0.0511793178717692,
          0.4595400049406742,
          0.0467437185397899,
          0.1068976649807622,
          0.4065563459925939,
          0.4251649629800358,
          0.4063547321592229,
          0.4717175239018165,
          0.0348124734484754,
          0.1975374248979562,
          0.2285456010168616,
          0.0828293904436992,
          0.310912223111067,
          0.3271664162322992,
          0.2544568888982845,
          0.2447251556804757,
          0.0529835600189136,
          0.2154250623862022,
          0.4006269915226764,
          0.1320824000170055,
          0.2763917746355731,
          0.3929032018593918,
          0.1785767186970392,
          0.1675861651473255,
          0.1425134855367971,
          0.0227708542067558,
          0.3025870128521315,
          0.4072377891949099,
          0.4062404029507215,
          0.2411253488020734,
          0.1314499564607707,
          0.3977062339295233,
          0.3711594673797133,
          0.0951188953689424,
          0.3716714995491282,
          0.1858037350166603,
          0.0796301223033916,
          0.4070965699255236,
          0.485489977085524,
          0.0286022331880488,
          0.3048147653580932,
          0.0197647150453907,
          0.1725496568513596,
          0.3109260361546095,
          0.4051582525219014,
          0.403187977848196,
          0.0391824217940666,
          0.0823788893031961,
          0.2678844905028346,
          0.1887960276802911,
          0.0455404869694968,
          0.2971481649540794,
          0.2240655076354953,
          0.2487280093736822,
          0.1654688626927085,
          0.3565196314058007,
          0.3107174032600669,
          0.3361105180426357,
          0.1954082129921271,
          0.2906890484086029,
          0.4268709131121541,
          0.2880665498664047,
          0.1659262868114465,
          0.4063153936273643,
          0.2531306783774141,
          0.1722725288213657,
          0.0481252528475076,
          0.1799369610947819,
          0.4819090160241405,
          0.4126142846598718,
          0.3383120398458862,
          0.3673501140956597,
          0.1817357693296848,
          0.3630026581185144,
          0.0915058370190149,
          0.4420676225838747,
          0.4161154190074632,
          0.2932471905572346,
          0.2311308353850066,
          0.0198382191819793,
          0.1379525778913083
         ]
        },
        {
         "name": "Dark Theme",
         "nbinsx": 20,
         "opacity": 0.6,
         "type": "histogram",
         "x": [
          0.1787632665885786,
          0.1569453622733465,
          0.0382357278881156,
          0.2140888546635993,
          0.269695988861512,
          0.1718288668758114,
          0.0487445123634546,
          0.2303955446563315,
          0.4164090797553658,
          0.3064350287275895,
          0.0456643209025264,
          0.4042788027467671,
          0.2979160075255451,
          0.1163380956270035,
          0.4544460854914226,
          0.4554071387463325,
          0.1137858083040139,
          0.4580762354200382,
          0.1272721698918853,
          0.1675913543254271,
          0.148699006784888,
          0.2384627258143466,
          0.1611269193005949,
          0.1862258628106124,
          0.2383419927829357,
          0.1095324707153842,
          0.1633317892463936,
          0.0324005695107364,
          0.3732136655710796,
          0.362805849497119,
          0.1546442208787917,
          0.1061339735361485,
          0.1304077080239186,
          0.4722976270733389,
          0.1754064991778888,
          0.3840467065764967,
          0.364543393734323,
          0.3690583961422592,
          0.1825663224826767,
          0.0785796790045024,
          0.2778077010756358,
          0.4952585350311296,
          0.0337720531562419,
          0.0773708499435104,
          0.3190438074872073,
          0.043304291416057,
          0.0840045267677256,
          0.0396205582673792,
          0.3224870099627213,
          0.4572482128200682,
          0.3330493275750327,
          0.2707841176562409,
          0.0181958123252886,
          0.1504773829013099,
          0.2209808722512585,
          0.4598439337849155,
          0.26694884660065,
          0.1336849161941934,
          0.1836761394216799,
          0.3516457948883627,
          0.4959206055889084,
          0.0255254067913833,
          0.2085863660711003,
          0.322006557022263,
          0.354394123509362,
          0.0505162000278428,
          0.4242115993247607,
          0.326004548552218,
          0.4603845855657038,
          0.3324735278347274,
          0.0176724666440479,
          0.1115074765506959,
          0.412242170014717,
          0.1566456758946226,
          0.2863395178156448,
          0.2748755911927493,
          0.198084644900624,
          0.3724751337511524,
          0.3973440617647334,
          0.3477621651801478,
          0.0578660358054432,
          0.1237505621533884,
          0.4847710583287619,
          0.3207202442283201,
          0.2307695954322493,
          0.121787811028566,
          0.1010115444887464,
          0.141306295138361,
          0.1961999966108933,
          0.3941062381164091,
          0.2009147679446066,
          0.4720505113978017,
          0.3830597806884762,
          0.0600933929154904,
          0.0527756438540068,
          0.2211799628282591,
          0.2829226657884016,
          0.2610960157211247,
          0.2815677046448103,
          0.0160469012931376,
          0.3651734835770477,
          0.1415193306031132,
          0.3935066458410879,
          0.1869512070218687,
          0.4726689248593831,
          0.2529431939942027,
          0.2343522001237903,
          0.0763898675835312,
          0.2038890694289388,
          0.4223905594937069,
          0.1961460785120536,
          0.2210019482641144,
          0.1572132894927704,
          0.3506932248057218,
          0.2051373954465639,
          0.1663774557621001,
          0.3201222063645242,
          0.4842039118869665,
          0.1696842563470237,
          0.1888576133236663,
          0.0981643341782628,
          0.3861327747966989,
          0.3663345482661939,
          0.1127277142170289,
          0.4008659053053877,
          0.4173280862680769,
          0.3995723561233236,
          0.3397590496738149,
          0.1338140256162349,
          0.2173326980072827,
          0.2300426932084806,
          0.3029875888289884,
          0.0280149303931984,
          0.3538008006572406,
          0.4580566118779864,
          0.0635910183697006,
          0.3357000047263079,
          0.3260652899143191,
          0.3269043669537655,
          0.0583172137050464,
          0.2834167740080801,
          0.3469555603106718,
          0.1933185882244686,
          0.348314279803844,
          0.4988743354531801,
          0.4610682968888182,
          0.0520688517158774,
          0.4173456949064978,
          0.2653462666022311,
          0.1806671453514668,
          0.0578352852515973,
          0.2316991246958497,
          0.0429154266203149,
          0.0318946958109073,
          0.3582817049800737,
          0.0635877140745391,
          0.4656619987794103,
          0.2804360420142598,
          0.1721849312210529,
          0.2189209979746243,
          0.2364065371722669,
          0.3185825562505526,
          0.3320808764677188,
          0.3713203010776072,
          0.2204808921406383,
          0.0121805212298068,
          0.1463889669525585,
          0.3548422742357671,
          0.2929004735489078,
          0.4017561548744877,
          0.2730756151796156,
          0.1892385844121322,
          0.1065663948222972,
          0.0658379356455293,
          0.4832990359750629,
          0.1635680139252223,
          0.202346562800052,
          0.0659737159347763,
          0.2343516872265019,
          0.0945384813750664,
          0.4023005577605066,
          0.4601544641040072,
          0.2991824988389646,
          0.3393339400413215,
          0.163461014984192,
          0.0673049629456684,
          0.2003470019618955,
          0.3022486505475266,
          0.2484684056892678,
          0.1016783041815772,
          0.3135108896066957,
          0.434105893119642,
          0.2474583705283851,
          0.105612960900782,
          0.198132646175297,
          0.3579697626944406,
          0.2870449216300378,
          0.1201732741551713,
          0.392562696740683,
          0.2871687259810711,
          0.3885483426995618,
          0.2527035380852656,
          0.2602949303051337,
          0.1412655656025214,
          0.2761220292255921,
          0.4955378738027979,
          0.3808252587943461,
          0.382402024137231,
          0.1170855481549359,
          0.2183257965012196,
          0.3302991341662354,
          0.4386568246756733,
          0.0257928937701049,
          0.1387794601232015,
          0.4078255671717491,
          0.4319138611724185,
          0.3090282832835436,
          0.2198018600145801,
          0.311914087893256,
          0.3945761618855866,
          0.2893364289544491,
          0.2708175907115017,
          0.0925049086555113,
          0.4897100766374643,
          0.2906404341086603,
          0.4766746992649752,
          0.2620633442915176,
          0.451076091400211,
          0.0764385641497244,
          0.2116821493223061,
          0.0390500843995679,
          0.1458885324362912,
          0.3536989984242514,
          0.0750185195531088,
          0.081659287278231,
          0.1313018226111088,
          0.0796641002069302,
          0.1938344406446512,
          0.3993533290271557,
          0.3774031676078631,
          0.3504047717064968,
          0.4398855048480993,
          0.2491417954144756,
          0.2951582168878004,
          0.4357648038068882,
          0.4251119897442666,
          0.0556394124638784,
          0.4863536430495987,
          0.321071867312718,
          0.426552057497442,
          0.4843830042371535,
          0.0325120335727305,
          0.0179778626626447,
          0.4654221089202857,
          0.0874119223373391,
          0.4978900936798007,
          0.1579140971444469,
          0.4384674509393835,
          0.4395315682461078,
          0.327966492482329,
          0.3657342981005181,
          0.3800637569630927,
          0.2203231609701198,
          0.0566400022099337,
          0.048189973570577,
          0.3009029534521216,
          0.2280827696215406,
          0.0139506588193966,
          0.1783513335167126,
          0.43156674352984,
          0.2440731183045049,
          0.1221839650549311,
          0.0537722296869311,
          0.404918848575572,
          0.0605687512721286,
          0.1901052279150828,
          0.4085502826351472,
          0.4385036747548107,
          0.3417971681803316,
          0.0435216876860637,
          0.2860126950901197,
          0.0904171093974166,
          0.1820819822251177,
          0.3766517298234501,
          0.311877246174346,
          0.2267680960251513,
          0.1164498921668315,
          0.449330543348401,
          0.0786064393721398,
          0.3976275639870524,
          0.1314153237321536,
          0.1316018433210577,
          0.3044895402640391,
          0.3633780230411932,
          0.0231439590116376,
          0.4391553221479667,
          0.3073941661392603,
          0.1024367964002742,
          0.2019579977900952,
          0.3266231895740246,
          0.3940627837924447,
          0.3989512355460899,
          0.1272771274484319,
          0.1990839316341608,
          0.1281300602465528,
          0.3226603416429876,
          0.0447958808307377,
          0.1650715987732381,
          0.0946574529538728,
          0.2407971667325642,
          0.49380946977049,
          0.0167587786053924,
          0.4620638515772651,
          0.2050077617037236,
          0.3858839003262048,
          0.3238632712730523,
          0.0848134174641906,
          0.4612531807986406,
          0.4874135583337354,
          0.0861347943010269,
          0.1701076451797666,
          0.2973542098760916,
          0.3251457390367716,
          0.1619830517646013,
          0.1269323202101432,
          0.129795079322489,
          0.3363789936410621,
          0.0772337807248146,
          0.2532423369361306,
          0.1798855125626372,
          0.2634391927992081,
          0.413028367632442,
          0.1370310111478853,
          0.1922160211369096,
          0.4509497390269082,
          0.2602831209187262,
          0.0371651643127865,
          0.4310862935168609,
          0.0917718824011609,
          0.4481915258706884,
          0.3403190114659175,
          0.0665134657317263,
          0.4307576144697886,
          0.032530949645971,
          0.4805676512432675,
          0.120012503770612,
          0.1316489598450491,
          0.4587688347916385,
          0.414738527820741,
          0.2900526216825544,
          0.0685064555406574,
          0.3399296011921099,
          0.0358093530526662,
          0.1193606798658193,
          0.2064531750513162,
          0.4397257067106376,
          0.4343557926888046,
          0.190770485984749,
          0.3723922334993748,
          0.1288661568412488,
          0.1904540775710981,
          0.4989156869693137,
          0.390184118418075,
          0.2778140288787803,
          0.4000270351775897,
          0.0837775246286776,
          0.4668747909435458,
          0.0217160254282421,
          0.3497957950817594,
          0.0147014618365856,
          0.1741585104220837,
          0.3818752850747025,
          0.1943746669293413,
          0.1606802123854683,
          0.4917267135284999,
          0.2157097625813941,
          0.480980679834996,
          0.0797630077504345,
          0.0315111301945481,
          0.1234215609704766,
          0.4488331906685313,
          0.2346444339866328,
          0.376470705431716,
          0.3222356832160191,
          0.3000289240347755,
          0.0405186031247794,
          0.334597524795435,
          0.2025468087446357,
          0.1698632687020919,
          0.0766948047441923,
          0.0617722975503186,
          0.2302877063927576,
          0.1638763110279377,
          0.0691610011652337,
          0.1855608485093043,
          0.3874650068710875,
          0.2370398315776428,
          0.0543062351437771,
          0.3056182184052586,
          0.1153601868421072,
          0.4297209028945781,
          0.0826786607108586,
          0.4845160020464208,
          0.2041597867130878,
          0.0339858026193071,
          0.4118439117478694,
          0.095195188933836,
          0.4765273373436345,
          0.4287546392647815,
          0.2824173431587102,
          0.2795592370810195,
          0.0564153857261031,
          0.0695120951969838,
          0.3926703968007709,
          0.1070851872384546,
          0.2062850867390444,
          0.3462797783974244,
          0.4694117000393246,
          0.2971981885792472,
          0.4986090988039321,
          0.3265335788375239,
          0.0550695329419389,
          0.0700385530361622,
          0.4628245455116276,
          0.222246624846949,
          0.3649711150940459,
          0.2531019316944951,
          0.2190653690299058,
          0.1834321938098288,
          0.4550690657772425,
          0.1447410668218786,
          0.3123188106002997,
          0.4425615013378668,
          0.1976774852517668,
          0.3248997375628332,
          0.497102765910792,
          0.0195696918279511,
          0.1974240610982382,
          0.3595516276058922,
          0.2450453750551769,
          0.2871690463734618,
          0.0243586956629509,
          0.1476570060007996,
          0.1851421174090553,
          0.2961545707271011,
          0.1240534426812092,
          0.0882161560585038,
          0.1281648696258532,
          0.271507886648027,
          0.3843843646215804,
          0.4744232143276309,
          0.292089133223798,
          0.4915056715214359,
          0.2003270355899204,
          0.468250955724857,
          0.4958555412602293,
          0.1259100550438058,
          0.165822140463017,
          0.2998656224744112,
          0.3546919126307576,
          0.1823242527567131,
          0.2881491690588532,
          0.4747005679624862,
          0.4199814519593346,
          0.2756410547452867,
          0.0960228161537188,
          0.0375223086326229,
          0.2442146042014279,
          0.1769719316907185,
          0.0969553376004292,
          0.4354263780903705,
          0.3553012074488388,
          0.0794098055320947,
          0.0643510900793643,
          0.3552236247177598,
          0.3344483808714287,
          0.1749149248589942,
          0.1680755701427259,
          0.4881717289773888,
          0.368852492458074,
          0.3232403358126016,
          0.2853688817459687,
          0.4459041062379937,
          0.1848445180757807,
          0.4090825758570603,
          0.3696575369489508,
          0.1543134597122721,
          0.097077061363512,
          0.0108809742697042,
          0.3539841395978785,
          0.387706892363281,
          0.0992200604466382,
          0.309576764689674,
          0.3234269186639757,
          0.0610140141768531,
          0.1665641527791681,
          0.3217315174177804,
          0.174517238131528,
          0.015583853944794,
          0.1127452993562446,
          0.3496562773974198,
          0.3956398029844236,
          0.033592254289308,
          0.2247278692496299,
          0.2156300823007516,
          0.2128693901867432,
          0.1821032729562502,
          0.1939203094668685,
          0.3964776972933475,
          0.3815393363439187,
          0.1205355364807075,
          0.4016053372206063,
          0.0263722654022665,
          0.061315273764418
         ]
        }
       ],
       "layout": {
        "bargap": 0.1,
        "barmode": "group",
        "template": {
         "data": {
          "bar": [
           {
            "error_x": {
             "color": "#2a3f5f"
            },
            "error_y": {
             "color": "#2a3f5f"
            },
            "marker": {
             "line": {
              "color": "#E5ECF6",
              "width": 0.5
             },
             "pattern": {
              "fillmode": "overlay",
              "size": 10,
              "solidity": 0.2
             }
            },
            "type": "bar"
           }
          ],
          "barpolar": [
           {
            "marker": {
             "line": {
              "color": "#E5ECF6",
              "width": 0.5
             },
             "pattern": {
              "fillmode": "overlay",
              "size": 10,
              "solidity": 0.2
             }
            },
            "type": "barpolar"
           }
          ],
          "carpet": [
           {
            "aaxis": {
             "endlinecolor": "#2a3f5f",
             "gridcolor": "white",
             "linecolor": "white",
             "minorgridcolor": "white",
             "startlinecolor": "#2a3f5f"
            },
            "baxis": {
             "endlinecolor": "#2a3f5f",
             "gridcolor": "white",
             "linecolor": "white",
             "minorgridcolor": "white",
             "startlinecolor": "#2a3f5f"
            },
            "type": "carpet"
           }
          ],
          "choropleth": [
           {
            "colorbar": {
             "outlinewidth": 0,
             "ticks": ""
            },
            "type": "choropleth"
           }
          ],
          "contour": [
           {
            "colorbar": {
             "outlinewidth": 0,
             "ticks": ""
            },
            "colorscale": [
             [
              0,
              "#0d0887"
             ],
             [
              0.1111111111111111,
              "#46039f"
             ],
             [
              0.2222222222222222,
              "#7201a8"
             ],
             [
              0.3333333333333333,
              "#9c179e"
             ],
             [
              0.4444444444444444,
              "#bd3786"
             ],
             [
              0.5555555555555556,
              "#d8576b"
             ],
             [
              0.6666666666666666,
              "#ed7953"
             ],
             [
              0.7777777777777778,
              "#fb9f3a"
             ],
             [
              0.8888888888888888,
              "#fdca26"
             ],
             [
              1,
              "#f0f921"
             ]
            ],
            "type": "contour"
           }
          ],
          "contourcarpet": [
           {
            "colorbar": {
             "outlinewidth": 0,
             "ticks": ""
            },
            "type": "contourcarpet"
           }
          ],
          "heatmap": [
           {
            "colorbar": {
             "outlinewidth": 0,
             "ticks": ""
            },
            "colorscale": [
             [
              0,
              "#0d0887"
             ],
             [
              0.1111111111111111,
              "#46039f"
             ],
             [
              0.2222222222222222,
              "#7201a8"
             ],
             [
              0.3333333333333333,
              "#9c179e"
             ],
             [
              0.4444444444444444,
              "#bd3786"
             ],
             [
              0.5555555555555556,
              "#d8576b"
             ],
             [
              0.6666666666666666,
              "#ed7953"
             ],
             [
              0.7777777777777778,
              "#fb9f3a"
             ],
             [
              0.8888888888888888,
              "#fdca26"
             ],
             [
              1,
              "#f0f921"
             ]
            ],
            "type": "heatmap"
           }
          ],
          "heatmapgl": [
           {
            "colorbar": {
             "outlinewidth": 0,
             "ticks": ""
            },
            "colorscale": [
             [
              0,
              "#0d0887"
             ],
             [
              0.1111111111111111,
              "#46039f"
             ],
             [
              0.2222222222222222,
              "#7201a8"
             ],
             [
              0.3333333333333333,
              "#9c179e"
             ],
             [
              0.4444444444444444,
              "#bd3786"
             ],
             [
              0.5555555555555556,
              "#d8576b"
             ],
             [
              0.6666666666666666,
              "#ed7953"
             ],
             [
              0.7777777777777778,
              "#fb9f3a"
             ],
             [
              0.8888888888888888,
              "#fdca26"
             ],
             [
              1,
              "#f0f921"
             ]
            ],
            "type": "heatmapgl"
           }
          ],
          "histogram": [
           {
            "marker": {
             "pattern": {
              "fillmode": "overlay",
              "size": 10,
              "solidity": 0.2
             }
            },
            "type": "histogram"
           }
          ],
          "histogram2d": [
           {
            "colorbar": {
             "outlinewidth": 0,
             "ticks": ""
            },
            "colorscale": [
             [
              0,
              "#0d0887"
             ],
             [
              0.1111111111111111,
              "#46039f"
             ],
             [
              0.2222222222222222,
              "#7201a8"
             ],
             [
              0.3333333333333333,
              "#9c179e"
             ],
             [
              0.4444444444444444,
              "#bd3786"
             ],
             [
              0.5555555555555556,
              "#d8576b"
             ],
             [
              0.6666666666666666,
              "#ed7953"
             ],
             [
              0.7777777777777778,
              "#fb9f3a"
             ],
             [
              0.8888888888888888,
              "#fdca26"
             ],
             [
              1,
              "#f0f921"
             ]
            ],
            "type": "histogram2d"
           }
          ],
          "histogram2dcontour": [
           {
            "colorbar": {
             "outlinewidth": 0,
             "ticks": ""
            },
            "colorscale": [
             [
              0,
              "#0d0887"
             ],
             [
              0.1111111111111111,
              "#46039f"
             ],
             [
              0.2222222222222222,
              "#7201a8"
             ],
             [
              0.3333333333333333,
              "#9c179e"
             ],
             [
              0.4444444444444444,
              "#bd3786"
             ],
             [
              0.5555555555555556,
              "#d8576b"
             ],
             [
              0.6666666666666666,
              "#ed7953"
             ],
             [
              0.7777777777777778,
              "#fb9f3a"
             ],
             [
              0.8888888888888888,
              "#fdca26"
             ],
             [
              1,
              "#f0f921"
             ]
            ],
            "type": "histogram2dcontour"
           }
          ],
          "mesh3d": [
           {
            "colorbar": {
             "outlinewidth": 0,
             "ticks": ""
            },
            "type": "mesh3d"
           }
          ],
          "parcoords": [
           {
            "line": {
             "colorbar": {
              "outlinewidth": 0,
              "ticks": ""
             }
            },
            "type": "parcoords"
           }
          ],
          "pie": [
           {
            "automargin": true,
            "type": "pie"
           }
          ],
          "scatter": [
           {
            "fillpattern": {
             "fillmode": "overlay",
             "size": 10,
             "solidity": 0.2
            },
            "type": "scatter"
           }
          ],
          "scatter3d": [
           {
            "line": {
             "colorbar": {
              "outlinewidth": 0,
              "ticks": ""
             }
            },
            "marker": {
             "colorbar": {
              "outlinewidth": 0,
              "ticks": ""
             }
            },
            "type": "scatter3d"
           }
          ],
          "scattercarpet": [
           {
            "marker": {
             "colorbar": {
              "outlinewidth": 0,
              "ticks": ""
             }
            },
            "type": "scattercarpet"
           }
          ],
          "scattergeo": [
           {
            "marker": {
             "colorbar": {
              "outlinewidth": 0,
              "ticks": ""
             }
            },
            "type": "scattergeo"
           }
          ],
          "scattergl": [
           {
            "marker": {
             "colorbar": {
              "outlinewidth": 0,
              "ticks": ""
             }
            },
            "type": "scattergl"
           }
          ],
          "scattermapbox": [
           {
            "marker": {
             "colorbar": {
              "outlinewidth": 0,
              "ticks": ""
             }
            },
            "type": "scattermapbox"
           }
          ],
          "scatterpolar": [
           {
            "marker": {
             "colorbar": {
              "outlinewidth": 0,
              "ticks": ""
             }
            },
            "type": "scatterpolar"
           }
          ],
          "scatterpolargl": [
           {
            "marker": {
             "colorbar": {
              "outlinewidth": 0,
              "ticks": ""
             }
            },
            "type": "scatterpolargl"
           }
          ],
          "scatterternary": [
           {
            "marker": {
             "colorbar": {
              "outlinewidth": 0,
              "ticks": ""
             }
            },
            "type": "scatterternary"
           }
          ],
          "surface": [
           {
            "colorbar": {
             "outlinewidth": 0,
             "ticks": ""
            },
            "colorscale": [
             [
              0,
              "#0d0887"
             ],
             [
              0.1111111111111111,
              "#46039f"
             ],
             [
              0.2222222222222222,
              "#7201a8"
             ],
             [
              0.3333333333333333,
              "#9c179e"
             ],
             [
              0.4444444444444444,
              "#bd3786"
             ],
             [
              0.5555555555555556,
              "#d8576b"
             ],
             [
              0.6666666666666666,
              "#ed7953"
             ],
             [
              0.7777777777777778,
              "#fb9f3a"
             ],
             [
              0.8888888888888888,
              "#fdca26"
             ],
             [
              1,
              "#f0f921"
             ]
            ],
            "type": "surface"
           }
          ],
          "table": [
           {
            "cells": {
             "fill": {
              "color": "#EBF0F8"
             },
             "line": {
              "color": "white"
             }
            },
            "header": {
             "fill": {
              "color": "#C8D4E3"
             },
             "line": {
              "color": "white"
             }
            },
            "type": "table"
           }
          ]
         },
         "layout": {
          "annotationdefaults": {
           "arrowcolor": "#2a3f5f",
           "arrowhead": 0,
           "arrowwidth": 1
          },
          "autotypenumbers": "strict",
          "coloraxis": {
           "colorbar": {
            "outlinewidth": 0,
            "ticks": ""
           }
          },
          "colorscale": {
           "diverging": [
            [
             0,
             "#8e0152"
            ],
            [
             0.1,
             "#c51b7d"
            ],
            [
             0.2,
             "#de77ae"
            ],
            [
             0.3,
             "#f1b6da"
            ],
            [
             0.4,
             "#fde0ef"
            ],
            [
             0.5,
             "#f7f7f7"
            ],
            [
             0.6,
             "#e6f5d0"
            ],
            [
             0.7,
             "#b8e186"
            ],
            [
             0.8,
             "#7fbc41"
            ],
            [
             0.9,
             "#4d9221"
            ],
            [
             1,
             "#276419"
            ]
           ],
           "sequential": [
            [
             0,
             "#0d0887"
            ],
            [
             0.1111111111111111,
             "#46039f"
            ],
            [
             0.2222222222222222,
             "#7201a8"
            ],
            [
             0.3333333333333333,
             "#9c179e"
            ],
            [
             0.4444444444444444,
             "#bd3786"
            ],
            [
             0.5555555555555556,
             "#d8576b"
            ],
            [
             0.6666666666666666,
             "#ed7953"
            ],
            [
             0.7777777777777778,
             "#fb9f3a"
            ],
            [
             0.8888888888888888,
             "#fdca26"
            ],
            [
             1,
             "#f0f921"
            ]
           ],
           "sequentialminus": [
            [
             0,
             "#0d0887"
            ],
            [
             0.1111111111111111,
             "#46039f"
            ],
            [
             0.2222222222222222,
             "#7201a8"
            ],
            [
             0.3333333333333333,
             "#9c179e"
            ],
            [
             0.4444444444444444,
             "#bd3786"
            ],
            [
             0.5555555555555556,
             "#d8576b"
            ],
            [
             0.6666666666666666,
             "#ed7953"
            ],
            [
             0.7777777777777778,
             "#fb9f3a"
            ],
            [
             0.8888888888888888,
             "#fdca26"
            ],
            [
             1,
             "#f0f921"
            ]
           ]
          },
          "colorway": [
           "#636efa",
           "#EF553B",
           "#00cc96",
           "#ab63fa",
           "#FFA15A",
           "#19d3f3",
           "#FF6692",
           "#B6E880",
           "#FF97FF",
           "#FECB52"
          ],
          "font": {
           "color": "#2a3f5f"
          },
          "geo": {
           "bgcolor": "white",
           "lakecolor": "white",
           "landcolor": "#E5ECF6",
           "showlakes": true,
           "showland": true,
           "subunitcolor": "white"
          },
          "hoverlabel": {
           "align": "left"
          },
          "hovermode": "closest",
          "mapbox": {
           "style": "light"
          },
          "paper_bgcolor": "white",
          "plot_bgcolor": "#E5ECF6",
          "polar": {
           "angularaxis": {
            "gridcolor": "white",
            "linecolor": "white",
            "ticks": ""
           },
           "bgcolor": "#E5ECF6",
           "radialaxis": {
            "gridcolor": "white",
            "linecolor": "white",
            "ticks": ""
           }
          },
          "scene": {
           "xaxis": {
            "backgroundcolor": "#E5ECF6",
            "gridcolor": "white",
            "gridwidth": 2,
            "linecolor": "white",
            "showbackground": true,
            "ticks": "",
            "zerolinecolor": "white"
           },
           "yaxis": {
            "backgroundcolor": "#E5ECF6",
            "gridcolor": "white",
            "gridwidth": 2,
            "linecolor": "white",
            "showbackground": true,
            "ticks": "",
            "zerolinecolor": "white"
           },
           "zaxis": {
            "backgroundcolor": "#E5ECF6",
            "gridcolor": "white",
            "gridwidth": 2,
            "linecolor": "white",
            "showbackground": true,
            "ticks": "",
            "zerolinecolor": "white"
           }
          },
          "shapedefaults": {
           "line": {
            "color": "#2a3f5f"
           }
          },
          "ternary": {
           "aaxis": {
            "gridcolor": "white",
            "linecolor": "white",
            "ticks": ""
           },
           "baxis": {
            "gridcolor": "white",
            "linecolor": "white",
            "ticks": ""
           },
           "bgcolor": "#E5ECF6",
           "caxis": {
            "gridcolor": "white",
            "linecolor": "white",
            "ticks": ""
           }
          },
          "title": {
           "x": 0.05
          },
          "xaxis": {
           "automargin": true,
           "gridcolor": "white",
           "linecolor": "white",
           "ticks": "",
           "title": {
            "standoff": 15
           },
           "zerolinecolor": "white",
           "zerolinewidth": 2
          },
          "yaxis": {
           "automargin": true,
           "gridcolor": "white",
           "linecolor": "white",
           "ticks": "",
           "title": {
            "standoff": 15
           },
           "zerolinecolor": "white",
           "zerolinewidth": 2
          }
         }
        },
        "title": {
         "text": "Conversion Rate By Theme"
        },
        "xaxis": {
         "title": {
          "text": "Conversion Rate"
         }
        },
        "yaxis": {
         "title": {
          "text": "Frequency"
         }
        }
       }
      }
     },
     "metadata": {},
     "output_type": "display_data"
    }
   ],
   "source": [
    "# Lets have a look at Conversion rate \n",
    "\n",
    "fig = go.Figure()\n",
    "\n",
    "fig.add_trace(go.Histogram(x=light_theme_data['Conversion Rate'],name = 'Light Theme',opacity = 0.6,nbinsx=20))\n",
    "fig.add_trace(go.Histogram(x=dark_theme_data['Conversion Rate'],name = 'Dark Theme',opacity = 0.6,nbinsx=20))\n",
    "\n",
    "fig.update_layout(\n",
    "    title_text = 'Conversion Rate By Theme',\n",
    "    xaxis_title_text = 'Conversion Rate',\n",
    "    yaxis_title_text = 'Frequency',\n",
    "    barmode = 'group',\n",
    "    bargap = 0.1\n",
    ")\n",
    "fig.show()"
   ]
  },
  {
   "cell_type": "markdown",
   "metadata": {},
   "source": [
    "There is no much difference , Conversion rate of Dark Theme is slightly better that Light Theme"
   ]
  },
  {
   "cell_type": "code",
   "execution_count": 14,
   "metadata": {},
   "outputs": [
    {
     "data": {
      "application/vnd.plotly.v1+json": {
       "config": {
        "plotlyServerURL": "https://plot.ly"
       },
       "data": [
        {
         "name": "Light Theme",
         "type": "box",
         "y": [
          0.4050849206899338,
          0.7327587606405821,
          0.2450014526264947,
          0.7651004861211368,
          0.7868249137391361,
          0.4027703505487615,
          0.7911656600846859,
          0.6227027879550749,
          0.4587940004875165,
          0.5921811051592105,
          0.5643905753929315,
          0.4605202309359779,
          0.2321334455963573,
          0.3986567476639917,
          0.4455679194503875,
          0.5240752589639937,
          0.5963587356277842,
          0.5297975801222973,
          0.4945689655255822,
          0.2022893433016805,
          0.2525770155841832,
          0.5750545722255805,
          0.5829143954447424,
          0.4841423906852413,
          0.6709259438401491,
          0.3590026382705727,
          0.5851198295241268,
          0.4325162702122981,
          0.4226123149044485,
          0.311949764694759,
          0.2267701548187254,
          0.4638442537116615,
          0.6178825706279358,
          0.6849080944424079,
          0.6538741316932133,
          0.3365076551747408,
          0.2365902476346366,
          0.4322636581290001,
          0.7618168613679308,
          0.3413852116894526,
          0.3793112654043215,
          0.4368826191251451,
          0.5100904381295308,
          0.5428912431487511,
          0.2884685924065792,
          0.3002988724656323,
          0.3156356504240006,
          0.2256055403800676,
          0.288726950440294,
          0.5570285927856848,
          0.6362618055083182,
          0.6844062018409907,
          0.2522164645259044,
          0.5338185223818794,
          0.5312325149452395,
          0.5118129065252417,
          0.6690113965552771,
          0.2675113055755603,
          0.5496062521265926,
          0.2633808921099473,
          0.6714473781858066,
          0.7280814707750194,
          0.7267361376176329,
          0.5928726024281299,
          0.5432139438791372,
          0.3033198368940389,
          0.4417843750589461,
          0.4410319389646464,
          0.4374756465386191,
          0.2295745853144667,
          0.485130914691843,
          0.3611506129668564,
          0.4234644175480286,
          0.4027196488561597,
          0.3865695787087678,
          0.7057079411668445,
          0.7149408699401447,
          0.783497985611409,
          0.6462341849942981,
          0.6644185401163549,
          0.7480596832512443,
          0.4443022165042675,
          0.4906761978245972,
          0.5099008509540065,
          0.2337234922436015,
          0.6748942352487406,
          0.2393701805671591,
          0.6257416390186338,
          0.4420310846074662,
          0.6683098577765914,
          0.5145717302530971,
          0.541203379760451,
          0.3042424136076723,
          0.3204360656603128,
          0.2345765095181328,
          0.4162250490693775,
          0.3194658634393401,
          0.4785310782721328,
          0.6087046162660266,
          0.345162856753767,
          0.4932720434399408,
          0.7025922621540364,
          0.3551959563000252,
          0.6985221208133574,
          0.2297906257044109,
          0.7122927959513281,
          0.6678980810862076,
          0.3285911523868644,
          0.3350672245518651,
          0.5909523997135782,
          0.7802830134372685,
          0.6093198389212697,
          0.2793884544702092,
          0.3039203938892869,
          0.6805188849946726,
          0.3342620190339853,
          0.5650063297379861,
          0.7658029808348106,
          0.7372897850415503,
          0.4753988113343658,
          0.3309254324437589,
          0.5123827389969415,
          0.5368742703527605,
          0.5562635255264496,
          0.6106478815143013,
          0.4890430512897837,
          0.4017701923326893,
          0.3950822421677035,
          0.3661309581748257,
          0.7713126788692495,
          0.5908798812275728,
          0.3130160487440048,
          0.5103761513477909,
          0.3441812466070967,
          0.2340648046378634,
          0.714389216016369,
          0.4424590557539328,
          0.3917514429126192,
          0.2839577051458501,
          0.2152731626722241,
          0.4427593367767702,
          0.5498142214480145,
          0.405900229781344,
          0.4854411210411481,
          0.7644007727736317,
          0.3801168971303966,
          0.3019919984369219,
          0.5945688108049101,
          0.3762704317164558,
          0.644551334941321,
          0.6351119822636717,
          0.768154028116371,
          0.3333521069077405,
          0.7228593392986891,
          0.4522835409108867,
          0.4230094578589167,
          0.5513424171241423,
          0.478256376912656,
          0.5806380461912213,
          0.5723928171599615,
          0.6084186585918183,
          0.5179031027779986,
          0.2904670706571575,
          0.7954087117327597,
          0.7923149596277039,
          0.7919895535300887,
          0.3082140614641063,
          0.2484868801575042,
          0.3995776681499158,
          0.791984223619808,
          0.3880484430544032,
          0.471231937141096,
          0.6641253627923389,
          0.5457673494420219,
          0.6678514737846315,
          0.4602268485731819,
          0.4576458338054723,
          0.4574152691602461,
          0.520269561705355,
          0.638395442246354,
          0.7700411692890994,
          0.7352038353184454,
          0.5186202713425907,
          0.2107496753785676,
          0.3357594267734501,
          0.3872553562921172,
          0.2616249340037277,
          0.3836690552548477,
          0.2274310110429029,
          0.7690780250318101,
          0.4601991380213531,
          0.6120680928027886,
          0.2802736580792047,
          0.7976833488108983,
          0.7441365417161827,
          0.3267141374978868,
          0.2131479632393695,
          0.2738971890505766,
          0.6752762930275356,
          0.4251154596055037,
          0.2287762254266586,
          0.7016720057416339,
          0.2694738958035807,
          0.2741570377973424,
          0.3516429758417443,
          0.6114440171285481,
          0.2605879083088769,
          0.5706187730330284,
          0.3696240609020556,
          0.5654010856140378,
          0.7838718333915169,
          0.2962241591784613,
          0.2076496407611658,
          0.266258550443793,
          0.5444916591153529,
          0.6677157335506618,
          0.245028928176598,
          0.7428676303739494,
          0.5866020749412193,
          0.4740507408469883,
          0.7863745717526474,
          0.3584750136626244,
          0.2300481174877684,
          0.7244842694972955,
          0.6060599192054887,
          0.7341752069259693,
          0.2058033966362419,
          0.2830366656036154,
          0.5883191757076038,
          0.7367165704267375,
          0.7730534938952642,
          0.6398407672030538,
          0.4235732919646693,
          0.4056336336562161,
          0.4401501355870512,
          0.7316743320088517,
          0.7889415023139135,
          0.7467360567633077,
          0.4628976830002393,
          0.6674985767540287,
          0.6363671808247771,
          0.7350576808928937,
          0.4898477938192993,
          0.4928736661952919,
          0.4644127281575158,
          0.2380016278994658,
          0.5929841413240341,
          0.3343909515942434,
          0.7734568581127124,
          0.6129449860777565,
          0.6359911810543105,
          0.6958626921102893,
          0.5677484067733563,
          0.4815733619862996,
          0.3923802893201641,
          0.3668942781553449,
          0.5041575993122451,
          0.4271825555113419,
          0.6902619834318757,
          0.4665133258756754,
          0.2528119170215244,
          0.499073687704212,
          0.210661477309361,
          0.7340665392950374,
          0.5927575901365625,
          0.4737247539327523,
          0.6951865943712379,
          0.6899532119464195,
          0.7065904637625515,
          0.3991835753328391,
          0.6604498399187236,
          0.5599706909349577,
          0.6299948408775056,
          0.4179767283018537,
          0.4715194737048002,
          0.258462213393986,
          0.2013181686760058,
          0.4130833871508414,
          0.4243342162762406,
          0.2637933375497673,
          0.738126271206835,
          0.6931031959512359,
          0.645506534225758,
          0.2724474844197165,
          0.7113166230599426,
          0.3293537026213676,
          0.6947324862245638,
          0.4027601291586417,
          0.6542896050861643,
          0.2739315141982369,
          0.4744327261676939,
          0.7783128537185282,
          0.4596862279123788,
          0.7546225242689233,
          0.5945130866790386,
          0.5636964643718118,
          0.4511988475002382,
          0.4387219978731582,
          0.6828780984880262,
          0.5615146698058291,
          0.6420911890365724,
          0.5321489377286284,
          0.3304055342117954,
          0.3258276177533011,
          0.7527150586502569,
          0.3066876195545201,
          0.5254948870583414,
          0.6262116362843153,
          0.5373681268708553,
          0.2318389997046627,
          0.233962864577334,
          0.3601869616665766,
          0.7901194361744026,
          0.6100341971988723,
          0.2878570340844176,
          0.2372196943637498,
          0.4152094624073485,
          0.471556702714324,
          0.6053156081117355,
          0.3345844316888425,
          0.4333319972646034,
          0.5065533822073363,
          0.6176770983083785,
          0.6157616451285493,
          0.4289495768586754,
          0.6728669180385294,
          0.6110892578035027,
          0.7162668430959498,
          0.4658383123426891,
          0.6257272719486016,
          0.4206446726103471,
          0.3178814490563277,
          0.6349487124277197,
          0.3160986272730427,
          0.4692889534417953,
          0.2446813964261557,
          0.7774851493856094,
          0.6410476916157314,
          0.2243805397831252,
          0.7624966702825087,
          0.2239643535928579,
          0.7571769430754931,
          0.5581281992086267,
          0.5752199975353867,
          0.7058839887167077,
          0.380692890989263,
          0.6739449094504579,
          0.5300961078319799,
          0.243728477287433,
          0.6246089368366853,
          0.2956222955104615,
          0.525848093049389,
          0.5980006858641662,
          0.3986399219667814,
          0.7701849658160911,
          0.4849143132416803,
          0.5368008099065202,
          0.6512802540412539,
          0.2688331708413591,
          0.4076043744936611,
          0.344208725859954,
          0.5853586134927025,
          0.7313960953992771,
          0.510120693544041,
          0.6622965933753164,
          0.3778603817445708,
          0.5909169175886172,
          0.3921876542891325,
          0.2494072688291005,
          0.7829772619438597,
          0.6639911109416552,
          0.5777086903464002,
          0.7013990466472215,
          0.6900526088763079,
          0.2432722959528453,
          0.3067952981332605,
          0.2422652553392751,
          0.470675398246425,
          0.3898425475518001,
          0.2035393564764681,
          0.6321714086160781,
          0.7089507434036857,
          0.4146200832488287,
          0.3739019593010481,
          0.7560145278469153,
          0.4288481446882184,
          0.6932734220954322,
          0.2184914908140346,
          0.3319194352763062,
          0.6780622622258274,
          0.7096804628330073,
          0.3769870815879148,
          0.3788339019296574,
          0.7321868713833493,
          0.2848243197347305,
          0.5436311569660376,
          0.528515270115343,
          0.2510761140496633,
          0.3260317344142344,
          0.7108753108049306,
          0.3516450667127648,
          0.5868047083154229,
          0.2438867432951301,
          0.350412568888973,
          0.5483573920452166,
          0.3710822863259126,
          0.3160991414686409,
          0.4915167381643324,
          0.595653350527624,
          0.2914369772324801,
          0.6846198587849728,
          0.7751953531577025,
          0.3879288684405765,
          0.671396067238714,
          0.6077481079085445,
          0.4921828294620148,
          0.2652995817770219,
          0.5873309624491379,
          0.3683695637824251,
          0.6958662039339617,
          0.3178591576065182,
          0.6401267702266686,
          0.6364552203211187,
          0.7097523637436851,
          0.5789758966767531,
          0.5473404723635367,
          0.736391560727633,
          0.5238062700872299,
          0.2891797901652095,
          0.4354990075080394,
          0.7348625262326518,
          0.5537604528660782,
          0.2803287556679598,
          0.2543324145530991,
          0.4183193348445025,
          0.6104969941042822,
          0.2955334507486754,
          0.5398143527599208,
          0.3390499445625894,
          0.6011513600056205,
          0.5107311378764783,
          0.2239428191509386,
          0.7810648405017238,
          0.580140189064952,
          0.5471788609520349,
          0.4259957417264967,
          0.4271111102340971,
          0.7389359705245604,
          0.2467024826258252,
          0.3509518461361324,
          0.4435053215305418,
          0.4070193938323627,
          0.6755944720600997,
          0.4639392204535268,
          0.3379944596160422,
          0.5087247638857827,
          0.2944144116143418,
          0.3981348591458306,
          0.6051376557893215,
          0.4874126980187175,
          0.554474539285509,
          0.3462021844527617,
          0.55540859622268,
          0.5075856896006653,
          0.4432737898797878,
          0.7815462122720691,
          0.727105389771822,
          0.6927819860732017,
          0.7683523211736165,
          0.4890010394330328,
          0.3316182888911526,
          0.4464601111449542,
          0.2856272822377804,
          0.5739270433469806,
          0.5064829450749786,
          0.3006330209561592,
          0.6113546982825009,
          0.2793279190744614,
          0.5136268058102951,
          0.563306610716724,
          0.7409649310175248,
          0.5188579701036031,
          0.2559139794807475,
          0.5235715917983135,
          0.6071356161649455,
          0.4588980951400588
         ]
        },
        {
         "name": "Dark Theme",
         "type": "box",
         "y": [
          0.2965426969467927,
          0.7359357035878455,
          0.784639052405883,
          0.5324674593897377,
          0.755344160184148,
          0.3784403886089397,
          0.2575495528413449,
          0.4357413287688932,
          0.2327029110230308,
          0.6943383842498969,
          0.488197038470245,
          0.2581921384888993,
          0.324171789754177,
          0.7862346175995594,
          0.2693053542450967,
          0.4825666717697537,
          0.7369264900432828,
          0.4288671122613624,
          0.3580404857974154,
          0.7022472512806743,
          0.5385479527487131,
          0.2906784046541235,
          0.2580215726153879,
          0.6008847043385717,
          0.4483919917227575,
          0.5135493639944437,
          0.7793766224481811,
          0.6122407594333321,
          0.5436285743787312,
          0.7123638930066185,
          0.2208370961342817,
          0.5427319611629325,
          0.789652858467131,
          0.7695528898709512,
          0.4694238417128278,
          0.7694368898169757,
          0.3271340957662197,
          0.2470211132836934,
          0.6098752816113528,
          0.3211515679833407,
          0.6935384197260122,
          0.3918496932572327,
          0.7139745083877482,
          0.7502971464699488,
          0.2074182783956109,
          0.62024727295216,
          0.552545652639398,
          0.2897853917548049,
          0.5399563562330639,
          0.7788989988251775,
          0.2601223986965186,
          0.6677268181785514,
          0.7204851606591054,
          0.3584819781022227,
          0.4838279695993617,
          0.570946693161079,
          0.6084877179279682,
          0.7273745790041719,
          0.6143082525025874,
          0.6761912359433844,
          0.6109112162808361,
          0.3367744481610604,
          0.380288268510488,
          0.3925209891919194,
          0.6372796479617331,
          0.5629874794731504,
          0.2535721101817594,
          0.4650299588354997,
          0.4243461258158865,
          0.7251083336752502,
          0.2198426267047911,
          0.2303355690152841,
          0.4210111565448625,
          0.4381653665098987,
          0.7538441410237828,
          0.4676620595645175,
          0.7763122269681728,
          0.4847493734369289,
          0.5308002323646541,
          0.4065494023122502,
          0.2542351526844623,
          0.2164702939386621,
          0.3328106462093289,
          0.3240385916937153,
          0.5079687402548747,
          0.7187779580666289,
          0.4844583239176069,
          0.6276442928628226,
          0.6256209178689435,
          0.3652271349302238,
          0.7109517038555855,
          0.3812870547646112,
          0.5741636577121282,
          0.5506922935052758,
          0.2044085436083989,
          0.7996576279209053,
          0.7798912726787506,
          0.7036270515958807,
          0.3696061266890582,
          0.3658899499800566,
          0.5936717631418725,
          0.6860173848272859,
          0.4984236970430721,
          0.3773627799425704,
          0.7441469375129002,
          0.6420392574458674,
          0.7968522380532732,
          0.6896088206317209,
          0.6280215735243107,
          0.6117908665596028,
          0.582988153926568,
          0.4150982790022262,
          0.534948826645922,
          0.4824685236570722,
          0.5354189936649123,
          0.7475748576957064,
          0.7397546947105191,
          0.592660786610692,
          0.3339967552313652,
          0.7321061298161022,
          0.2706688827449228,
          0.2322061726438702,
          0.5481878650678739,
          0.4833318094436499,
          0.3167262829861523,
          0.2718895623125035,
          0.4478643524083285,
          0.7225094878118028,
          0.4056019309574,
          0.7357070739863258,
          0.2859344913797831,
          0.7174363660022698,
          0.2348081529351182,
          0.3256294210010466,
          0.2950610704254079,
          0.6711265434186273,
          0.2776435745409715,
          0.4864401655643423,
          0.2028014825480818,
          0.6541086427862735,
          0.202474300384612,
          0.6401619445479951,
          0.7261910811559102,
          0.5020018872112215,
          0.2391722134821586,
          0.4735557871811028,
          0.5121730473475303,
          0.5144705862008117,
          0.4941072107519994,
          0.6500693493564101,
          0.2989301053348974,
          0.6872049901041015,
          0.2114748398739916,
          0.3345928179942168,
          0.7909277146959564,
          0.5027801327510987,
          0.6266660540575104,
          0.5841926511635893,
          0.6627497980061179,
          0.5738808663871302,
          0.5563544407249104,
          0.2648680701266271,
          0.2289410338837642,
          0.466588573367538,
          0.621120928912433,
          0.3232969493949057,
          0.205582728837951,
          0.4525228738561179,
          0.5121855405121021,
          0.57367866608039,
          0.6204358077220479,
          0.4512954510628554,
          0.7391731550019127,
          0.5069508718793074,
          0.670856039701091,
          0.498643437915951,
          0.6667753499582139,
          0.6988992923042749,
          0.4147531019304846,
          0.4458537383169735,
          0.5288832582370402,
          0.7462139764772087,
          0.6129223492732243,
          0.4883983656642003,
          0.3407031595829338,
          0.2534017037162782,
          0.4964624173155926,
          0.7696676094386699,
          0.6341457490680686,
          0.6879070483507297,
          0.7113492114420259,
          0.4161287984323327,
          0.4555971238249847,
          0.2695406321957639,
          0.7107475404063046,
          0.3971964956411454,
          0.3609856391480961,
          0.2682991999422498,
          0.4739232120148827,
          0.7014250072198309,
          0.6139414586901886,
          0.4869470065827627,
          0.4530438928999595,
          0.3000672375249411,
          0.279506945741936,
          0.6358466672538805,
          0.706609908458868,
          0.2622278634430217,
          0.4896049103242075,
          0.5413660586404494,
          0.5667938949752634,
          0.5668150515652428,
          0.7175454647144563,
          0.7279701479011915,
          0.7325563568381261,
          0.2074161277915604,
          0.7209993631151121,
          0.5148907472231778,
          0.6461742873936103,
          0.6342641259655903,
          0.7238861382229655,
          0.5114598074098073,
          0.5709434096302486,
          0.4597087442653474,
          0.4891578063923843,
          0.5982263863517147,
          0.5848426716843693,
          0.2891926713542626,
          0.7352371289780362,
          0.2069869204315485,
          0.7606228522520992,
          0.50334054313084,
          0.4975009584549768,
          0.2992423239716824,
          0.6508580006285667,
          0.3985369055128621,
          0.5302973418384075,
          0.247298357452875,
          0.5438209583525297,
          0.3896369164528258,
          0.7884024433674217,
          0.6471433787943707,
          0.4420637953832979,
          0.221499159442474,
          0.5294592738159137,
          0.6955452550540666,
          0.675069971103385,
          0.777902748968003,
          0.5825228734519987,
          0.5373995432563927,
          0.4045125202686003,
          0.595346152283611,
          0.5801967082817868,
          0.6799476293861132,
          0.5286143490164805,
          0.4954532853087002,
          0.4455264543308087,
          0.352573586750858,
          0.3175528802910897,
          0.3143472584342416,
          0.2279002171455019,
          0.5799442805534583,
          0.6032850634551545,
          0.7350526129476933,
          0.5535896999665663,
          0.5025185456930221,
          0.2026025766001537,
          0.6417283581878466,
          0.531935797342546,
          0.5510724268090664,
          0.6686488982491001,
          0.7461088918620458,
          0.6150906275744188,
          0.3041901621095597,
          0.6891464924590966,
          0.2621323766741406,
          0.3931062571888124,
          0.7288343402057706,
          0.5653962161358159,
          0.6155093212233842,
          0.3489432734560782,
          0.4057152836195751,
          0.376504125235285,
          0.2829080033872074,
          0.7318621132452496,
          0.5073767735015443,
          0.7058446587688967,
          0.5286835828157106,
          0.3883464770549879,
          0.6286307213779367,
          0.611966778391422,
          0.2796030371546842,
          0.6262378662083434,
          0.7851076958700707,
          0.5821264609204891,
          0.6564650148998401,
          0.5496837626575151,
          0.7656041905305859,
          0.6260741788930204,
          0.6045460913235041,
          0.7363196008267521,
          0.5203416822221636,
          0.7264863409726372,
          0.4534318215026175,
          0.2076623090627639,
          0.2638822795090323,
          0.4285221881210508,
          0.6713193155568931,
          0.6706144405684199,
          0.3224005419921604,
          0.524703252459942,
          0.569665300256172,
          0.5371309900202221,
          0.588271666592079,
          0.6781001886672755,
          0.2281879287651992,
          0.449939742490807,
          0.7794999281411974,
          0.2322813153846498,
          0.6462019797474494,
          0.3218523336376027,
          0.7213099767905098,
          0.3353290986038135,
          0.5802730964331139,
          0.5530312041041932,
          0.6430700194987073,
          0.7900719941377292,
          0.2716122867637793,
          0.3674673477855263,
          0.3585437571856373,
          0.2965573098539682,
          0.7076085176543123,
          0.203387081610692,
          0.4797988029257475,
          0.6641965699153328,
          0.5152370403109283,
          0.7741926305765023,
          0.5123637723990223,
          0.6717549436024146,
          0.4420502398548076,
          0.4096417705172214,
          0.7300380433202707,
          0.3761446143021223,
          0.5709683605901847,
          0.589580068031566,
          0.7511643795123624,
          0.3462962983201302,
          0.2239263490552515,
          0.4288235645708401,
          0.6777239513918207,
          0.2680244165027555,
          0.3539543339918731,
          0.6343853650219544,
          0.2148234378308173,
          0.5085854372508083,
          0.5052413558016281,
          0.4920828254991099,
          0.2575738586517936,
          0.5199234932988759,
          0.5761598455852501,
          0.326468884961315,
          0.3279050791186877,
          0.6112431098112887,
          0.3233477407891492,
          0.6972492025915216,
          0.7271823390255447,
          0.6448250209176842,
          0.4611426576073221,
          0.6116261235792395,
          0.2142517676616842,
          0.6301209703015479,
          0.2227317888476888,
          0.2439488174957099,
          0.3511448005948255,
          0.6929715911789789,
          0.7465919446586726,
          0.4445796670974759,
          0.4426688124225663,
          0.4337011203466299,
          0.2709834569759713,
          0.2379425544558193,
          0.647570618624723,
          0.2273101122716755,
          0.5017021705484489,
          0.6115271954298797,
          0.5639395047120984,
          0.3689104665753583,
          0.2937940844899465,
          0.6480523469641473,
          0.5804274014118711,
          0.779219236053603,
          0.72028338341113,
          0.5887643651953214,
          0.7744349894648721,
          0.2066901246615835,
          0.724860156573667,
          0.2250638842807553,
          0.4364490205220224,
          0.6448582898238884,
          0.6355624080174491,
          0.3270421657531909,
          0.7433768182066003,
          0.2854730702681289,
          0.3103956336712299,
          0.5701309539440946,
          0.2687735252739101,
          0.6025867468103471,
          0.5403755866836808,
          0.2326329835566329,
          0.6506250885085905,
          0.7940458535893846,
          0.529310668086701,
          0.6030111494691496,
          0.3184505554687496,
          0.7709239438065183,
          0.4142830154070935,
          0.6027773394680306,
          0.3407197092475521,
          0.2418853308265742,
          0.3970076469317485,
          0.616074877608582,
          0.5401171357832556,
          0.3011837065435881,
          0.6273194763354193,
          0.5845031266039196,
          0.3660079010133895,
          0.4156915998502336,
          0.3989377701784037,
          0.4879723822899835,
          0.4672147841397298,
          0.6648601769155493,
          0.2491842158516928,
          0.7347782233593674,
          0.5759713310441184,
          0.7352631107805534,
          0.6875854398990743,
          0.6615201529415085,
          0.3276564117057781,
          0.2219937855821579,
          0.3563697928643345,
          0.5923448835694667,
          0.7142984924808107,
          0.5006739028263629,
          0.2063550099552206,
          0.3433284827231548,
          0.77840016099754,
          0.7891119194658218,
          0.6543236427641065,
          0.284222415594252,
          0.5394875198278426,
          0.723317092512856,
          0.287719431829094,
          0.6392026848353598,
          0.7635051549619238,
          0.2242518956310411,
          0.6568834267004229,
          0.3586142690603517,
          0.3404112013107915,
          0.6748762742932948,
          0.4328558659687976,
          0.7507411664186872,
          0.7289311887909657,
          0.5891148492279847,
          0.261935007737888,
          0.3640971891650808,
          0.6451458242385808,
          0.5420960910939417,
          0.5526072948575164,
          0.783604465010356,
          0.3337395527200629,
          0.6903420591401432,
          0.7323031661102668,
          0.203958611943589,
          0.7292205459131376,
          0.3684857050099243,
          0.2901442446719363,
          0.5612121658800664,
          0.6901730453297357,
          0.5966657857463344,
          0.4487682110570637,
          0.2680032185383885,
          0.5883555404843316,
          0.4465395242979201,
          0.2767310689694576,
          0.2808344288000781,
          0.7344786028814434,
          0.2881190600510478,
          0.299804819784729,
          0.7534681223930606,
          0.5099844155828879,
          0.5825736240384879,
          0.6367845892686177,
          0.329956050735131,
          0.5639155387555472,
          0.4828480729489136,
          0.5495876825770133,
          0.6604940675879307,
          0.7534111669069685,
          0.5579200174984158,
          0.2413057382247468,
          0.4269268112724806,
          0.2099375763640487,
          0.7456035338537077,
          0.6106206987193004,
          0.6959085113535577,
          0.3064533105903976,
          0.5598882781224097,
          0.7266515826457809,
          0.6514298906215269,
          0.5956355666979947,
          0.7411908534324527,
          0.200720123486082,
          0.7626409043738414,
          0.4524104120003169
         ]
        }
       ],
       "layout": {
        "template": {
         "data": {
          "bar": [
           {
            "error_x": {
             "color": "#2a3f5f"
            },
            "error_y": {
             "color": "#2a3f5f"
            },
            "marker": {
             "line": {
              "color": "#E5ECF6",
              "width": 0.5
             },
             "pattern": {
              "fillmode": "overlay",
              "size": 10,
              "solidity": 0.2
             }
            },
            "type": "bar"
           }
          ],
          "barpolar": [
           {
            "marker": {
             "line": {
              "color": "#E5ECF6",
              "width": 0.5
             },
             "pattern": {
              "fillmode": "overlay",
              "size": 10,
              "solidity": 0.2
             }
            },
            "type": "barpolar"
           }
          ],
          "carpet": [
           {
            "aaxis": {
             "endlinecolor": "#2a3f5f",
             "gridcolor": "white",
             "linecolor": "white",
             "minorgridcolor": "white",
             "startlinecolor": "#2a3f5f"
            },
            "baxis": {
             "endlinecolor": "#2a3f5f",
             "gridcolor": "white",
             "linecolor": "white",
             "minorgridcolor": "white",
             "startlinecolor": "#2a3f5f"
            },
            "type": "carpet"
           }
          ],
          "choropleth": [
           {
            "colorbar": {
             "outlinewidth": 0,
             "ticks": ""
            },
            "type": "choropleth"
           }
          ],
          "contour": [
           {
            "colorbar": {
             "outlinewidth": 0,
             "ticks": ""
            },
            "colorscale": [
             [
              0,
              "#0d0887"
             ],
             [
              0.1111111111111111,
              "#46039f"
             ],
             [
              0.2222222222222222,
              "#7201a8"
             ],
             [
              0.3333333333333333,
              "#9c179e"
             ],
             [
              0.4444444444444444,
              "#bd3786"
             ],
             [
              0.5555555555555556,
              "#d8576b"
             ],
             [
              0.6666666666666666,
              "#ed7953"
             ],
             [
              0.7777777777777778,
              "#fb9f3a"
             ],
             [
              0.8888888888888888,
              "#fdca26"
             ],
             [
              1,
              "#f0f921"
             ]
            ],
            "type": "contour"
           }
          ],
          "contourcarpet": [
           {
            "colorbar": {
             "outlinewidth": 0,
             "ticks": ""
            },
            "type": "contourcarpet"
           }
          ],
          "heatmap": [
           {
            "colorbar": {
             "outlinewidth": 0,
             "ticks": ""
            },
            "colorscale": [
             [
              0,
              "#0d0887"
             ],
             [
              0.1111111111111111,
              "#46039f"
             ],
             [
              0.2222222222222222,
              "#7201a8"
             ],
             [
              0.3333333333333333,
              "#9c179e"
             ],
             [
              0.4444444444444444,
              "#bd3786"
             ],
             [
              0.5555555555555556,
              "#d8576b"
             ],
             [
              0.6666666666666666,
              "#ed7953"
             ],
             [
              0.7777777777777778,
              "#fb9f3a"
             ],
             [
              0.8888888888888888,
              "#fdca26"
             ],
             [
              1,
              "#f0f921"
             ]
            ],
            "type": "heatmap"
           }
          ],
          "heatmapgl": [
           {
            "colorbar": {
             "outlinewidth": 0,
             "ticks": ""
            },
            "colorscale": [
             [
              0,
              "#0d0887"
             ],
             [
              0.1111111111111111,
              "#46039f"
             ],
             [
              0.2222222222222222,
              "#7201a8"
             ],
             [
              0.3333333333333333,
              "#9c179e"
             ],
             [
              0.4444444444444444,
              "#bd3786"
             ],
             [
              0.5555555555555556,
              "#d8576b"
             ],
             [
              0.6666666666666666,
              "#ed7953"
             ],
             [
              0.7777777777777778,
              "#fb9f3a"
             ],
             [
              0.8888888888888888,
              "#fdca26"
             ],
             [
              1,
              "#f0f921"
             ]
            ],
            "type": "heatmapgl"
           }
          ],
          "histogram": [
           {
            "marker": {
             "pattern": {
              "fillmode": "overlay",
              "size": 10,
              "solidity": 0.2
             }
            },
            "type": "histogram"
           }
          ],
          "histogram2d": [
           {
            "colorbar": {
             "outlinewidth": 0,
             "ticks": ""
            },
            "colorscale": [
             [
              0,
              "#0d0887"
             ],
             [
              0.1111111111111111,
              "#46039f"
             ],
             [
              0.2222222222222222,
              "#7201a8"
             ],
             [
              0.3333333333333333,
              "#9c179e"
             ],
             [
              0.4444444444444444,
              "#bd3786"
             ],
             [
              0.5555555555555556,
              "#d8576b"
             ],
             [
              0.6666666666666666,
              "#ed7953"
             ],
             [
              0.7777777777777778,
              "#fb9f3a"
             ],
             [
              0.8888888888888888,
              "#fdca26"
             ],
             [
              1,
              "#f0f921"
             ]
            ],
            "type": "histogram2d"
           }
          ],
          "histogram2dcontour": [
           {
            "colorbar": {
             "outlinewidth": 0,
             "ticks": ""
            },
            "colorscale": [
             [
              0,
              "#0d0887"
             ],
             [
              0.1111111111111111,
              "#46039f"
             ],
             [
              0.2222222222222222,
              "#7201a8"
             ],
             [
              0.3333333333333333,
              "#9c179e"
             ],
             [
              0.4444444444444444,
              "#bd3786"
             ],
             [
              0.5555555555555556,
              "#d8576b"
             ],
             [
              0.6666666666666666,
              "#ed7953"
             ],
             [
              0.7777777777777778,
              "#fb9f3a"
             ],
             [
              0.8888888888888888,
              "#fdca26"
             ],
             [
              1,
              "#f0f921"
             ]
            ],
            "type": "histogram2dcontour"
           }
          ],
          "mesh3d": [
           {
            "colorbar": {
             "outlinewidth": 0,
             "ticks": ""
            },
            "type": "mesh3d"
           }
          ],
          "parcoords": [
           {
            "line": {
             "colorbar": {
              "outlinewidth": 0,
              "ticks": ""
             }
            },
            "type": "parcoords"
           }
          ],
          "pie": [
           {
            "automargin": true,
            "type": "pie"
           }
          ],
          "scatter": [
           {
            "fillpattern": {
             "fillmode": "overlay",
             "size": 10,
             "solidity": 0.2
            },
            "type": "scatter"
           }
          ],
          "scatter3d": [
           {
            "line": {
             "colorbar": {
              "outlinewidth": 0,
              "ticks": ""
             }
            },
            "marker": {
             "colorbar": {
              "outlinewidth": 0,
              "ticks": ""
             }
            },
            "type": "scatter3d"
           }
          ],
          "scattercarpet": [
           {
            "marker": {
             "colorbar": {
              "outlinewidth": 0,
              "ticks": ""
             }
            },
            "type": "scattercarpet"
           }
          ],
          "scattergeo": [
           {
            "marker": {
             "colorbar": {
              "outlinewidth": 0,
              "ticks": ""
             }
            },
            "type": "scattergeo"
           }
          ],
          "scattergl": [
           {
            "marker": {
             "colorbar": {
              "outlinewidth": 0,
              "ticks": ""
             }
            },
            "type": "scattergl"
           }
          ],
          "scattermapbox": [
           {
            "marker": {
             "colorbar": {
              "outlinewidth": 0,
              "ticks": ""
             }
            },
            "type": "scattermapbox"
           }
          ],
          "scatterpolar": [
           {
            "marker": {
             "colorbar": {
              "outlinewidth": 0,
              "ticks": ""
             }
            },
            "type": "scatterpolar"
           }
          ],
          "scatterpolargl": [
           {
            "marker": {
             "colorbar": {
              "outlinewidth": 0,
              "ticks": ""
             }
            },
            "type": "scatterpolargl"
           }
          ],
          "scatterternary": [
           {
            "marker": {
             "colorbar": {
              "outlinewidth": 0,
              "ticks": ""
             }
            },
            "type": "scatterternary"
           }
          ],
          "surface": [
           {
            "colorbar": {
             "outlinewidth": 0,
             "ticks": ""
            },
            "colorscale": [
             [
              0,
              "#0d0887"
             ],
             [
              0.1111111111111111,
              "#46039f"
             ],
             [
              0.2222222222222222,
              "#7201a8"
             ],
             [
              0.3333333333333333,
              "#9c179e"
             ],
             [
              0.4444444444444444,
              "#bd3786"
             ],
             [
              0.5555555555555556,
              "#d8576b"
             ],
             [
              0.6666666666666666,
              "#ed7953"
             ],
             [
              0.7777777777777778,
              "#fb9f3a"
             ],
             [
              0.8888888888888888,
              "#fdca26"
             ],
             [
              1,
              "#f0f921"
             ]
            ],
            "type": "surface"
           }
          ],
          "table": [
           {
            "cells": {
             "fill": {
              "color": "#EBF0F8"
             },
             "line": {
              "color": "white"
             }
            },
            "header": {
             "fill": {
              "color": "#C8D4E3"
             },
             "line": {
              "color": "white"
             }
            },
            "type": "table"
           }
          ]
         },
         "layout": {
          "annotationdefaults": {
           "arrowcolor": "#2a3f5f",
           "arrowhead": 0,
           "arrowwidth": 1
          },
          "autotypenumbers": "strict",
          "coloraxis": {
           "colorbar": {
            "outlinewidth": 0,
            "ticks": ""
           }
          },
          "colorscale": {
           "diverging": [
            [
             0,
             "#8e0152"
            ],
            [
             0.1,
             "#c51b7d"
            ],
            [
             0.2,
             "#de77ae"
            ],
            [
             0.3,
             "#f1b6da"
            ],
            [
             0.4,
             "#fde0ef"
            ],
            [
             0.5,
             "#f7f7f7"
            ],
            [
             0.6,
             "#e6f5d0"
            ],
            [
             0.7,
             "#b8e186"
            ],
            [
             0.8,
             "#7fbc41"
            ],
            [
             0.9,
             "#4d9221"
            ],
            [
             1,
             "#276419"
            ]
           ],
           "sequential": [
            [
             0,
             "#0d0887"
            ],
            [
             0.1111111111111111,
             "#46039f"
            ],
            [
             0.2222222222222222,
             "#7201a8"
            ],
            [
             0.3333333333333333,
             "#9c179e"
            ],
            [
             0.4444444444444444,
             "#bd3786"
            ],
            [
             0.5555555555555556,
             "#d8576b"
            ],
            [
             0.6666666666666666,
             "#ed7953"
            ],
            [
             0.7777777777777778,
             "#fb9f3a"
            ],
            [
             0.8888888888888888,
             "#fdca26"
            ],
            [
             1,
             "#f0f921"
            ]
           ],
           "sequentialminus": [
            [
             0,
             "#0d0887"
            ],
            [
             0.1111111111111111,
             "#46039f"
            ],
            [
             0.2222222222222222,
             "#7201a8"
            ],
            [
             0.3333333333333333,
             "#9c179e"
            ],
            [
             0.4444444444444444,
             "#bd3786"
            ],
            [
             0.5555555555555556,
             "#d8576b"
            ],
            [
             0.6666666666666666,
             "#ed7953"
            ],
            [
             0.7777777777777778,
             "#fb9f3a"
            ],
            [
             0.8888888888888888,
             "#fdca26"
            ],
            [
             1,
             "#f0f921"
            ]
           ]
          },
          "colorway": [
           "#636efa",
           "#EF553B",
           "#00cc96",
           "#ab63fa",
           "#FFA15A",
           "#19d3f3",
           "#FF6692",
           "#B6E880",
           "#FF97FF",
           "#FECB52"
          ],
          "font": {
           "color": "#2a3f5f"
          },
          "geo": {
           "bgcolor": "white",
           "lakecolor": "white",
           "landcolor": "#E5ECF6",
           "showlakes": true,
           "showland": true,
           "subunitcolor": "white"
          },
          "hoverlabel": {
           "align": "left"
          },
          "hovermode": "closest",
          "mapbox": {
           "style": "light"
          },
          "paper_bgcolor": "white",
          "plot_bgcolor": "#E5ECF6",
          "polar": {
           "angularaxis": {
            "gridcolor": "white",
            "linecolor": "white",
            "ticks": ""
           },
           "bgcolor": "#E5ECF6",
           "radialaxis": {
            "gridcolor": "white",
            "linecolor": "white",
            "ticks": ""
           }
          },
          "scene": {
           "xaxis": {
            "backgroundcolor": "#E5ECF6",
            "gridcolor": "white",
            "gridwidth": 2,
            "linecolor": "white",
            "showbackground": true,
            "ticks": "",
            "zerolinecolor": "white"
           },
           "yaxis": {
            "backgroundcolor": "#E5ECF6",
            "gridcolor": "white",
            "gridwidth": 2,
            "linecolor": "white",
            "showbackground": true,
            "ticks": "",
            "zerolinecolor": "white"
           },
           "zaxis": {
            "backgroundcolor": "#E5ECF6",
            "gridcolor": "white",
            "gridwidth": 2,
            "linecolor": "white",
            "showbackground": true,
            "ticks": "",
            "zerolinecolor": "white"
           }
          },
          "shapedefaults": {
           "line": {
            "color": "#2a3f5f"
           }
          },
          "ternary": {
           "aaxis": {
            "gridcolor": "white",
            "linecolor": "white",
            "ticks": ""
           },
           "baxis": {
            "gridcolor": "white",
            "linecolor": "white",
            "ticks": ""
           },
           "bgcolor": "#E5ECF6",
           "caxis": {
            "gridcolor": "white",
            "linecolor": "white",
            "ticks": ""
           }
          },
          "title": {
           "x": 0.05
          },
          "xaxis": {
           "automargin": true,
           "gridcolor": "white",
           "linecolor": "white",
           "ticks": "",
           "title": {
            "standoff": 15
           },
           "zerolinecolor": "white",
           "zerolinewidth": 2
          },
          "yaxis": {
           "automargin": true,
           "gridcolor": "white",
           "linecolor": "white",
           "ticks": "",
           "title": {
            "standoff": 15
           },
           "zerolinecolor": "white",
           "zerolinewidth": 2
          }
         }
        },
        "title": {
         "text": "Bounce Rate by Theme"
        },
        "yaxis": {
         "title": {
          "text": "Bounce Rate"
         }
        }
       }
      }
     },
     "metadata": {},
     "output_type": "display_data"
    }
   ],
   "source": [
    "# Lets see the Distribution of bounce rate for both themes\n",
    "\n",
    "fig = go.Figure()\n",
    "\n",
    "fig.add_trace(go.Box(y=light_theme_data['Bounce Rate'],name='Light Theme'))\n",
    "fig.add_trace(go.Box(y=dark_theme_data['Bounce Rate'],name='Dark Theme'))\n",
    "\n",
    "fig.update_layout(\n",
    "    title_text = \"Bounce Rate by Theme\",\n",
    "    yaxis_title_text = \"Bounce Rate\"\n",
    ")\n",
    "\n",
    "fig.show()"
   ]
  },
  {
   "cell_type": "markdown",
   "metadata": {},
   "source": [
    "Bounce Rate for Light Theme is lower i.e It is slightly better than Dark Theme."
   ]
  },
  {
   "cell_type": "code",
   "execution_count": 15,
   "metadata": {},
   "outputs": [
    {
     "data": {
      "application/vnd.plotly.v1+json": {
       "config": {
        "plotlyServerURL": "https://plot.ly"
       },
       "data": [
        {
         "name": "Light Theme",
         "type": "box",
         "y": [
          72.48945804392022,
          61.85856842837475,
          76.30529767377683,
          48.92740687261026,
          66.12030031438313,
          41.03106882678631,
          68.27726233365865,
          70.23143084200066,
          54.56724901395302,
          45.529363811261845,
          35.27108169070239,
          65.95153342150726,
          74.6051214005291,
          25.029054857760663,
          52.62386131673159,
          64.6187408817213,
          20.426844765836208,
          32.32512176980081,
          68.25722917135136,
          26.39499298696752,
          45.56429534475919,
          35.678173685808595,
          79.50792045024292,
          32.22161967153616,
          53.45376051178624,
          49.025609457691445,
          79.31049584149707,
          54.65906918541624,
          66.45166905469951,
          28.28411110714029,
          71.82983159688838,
          27.14514586976805,
          50.50061258698742,
          56.84152202176633,
          23.123167825075093,
          43.34622083510618,
          58.15259710190772,
          68.26216165323045,
          25.288441358840664,
          42.25010756255972,
          56.54173167247564,
          63.46968280568391,
          37.188154032054165,
          77.8117893326905,
          66.41650713394375,
          71.03405817905852,
          51.08919692904048,
          31.68478967261732,
          60.4414628607308,
          41.584399896527806,
          78.53875405674194,
          25.21056875444225,
          36.556212207528745,
          43.9660213976179,
          60.17972278377851,
          32.018622987453355,
          63.56832258243775,
          53.54683201685948,
          68.93089276992134,
          47.28554051952682,
          20.279087093967576,
          50.37428577533288,
          53.51784277217953,
          40.39795366541242,
          27.020539851311845,
          35.46160319869803,
          52.27420336595804,
          46.56611843379831,
          42.624816848264,
          40.37964580710472,
          66.53592830546874,
          60.89568039509077,
          73.7914293647527,
          71.72139675647796,
          35.469185889164024,
          42.96039475515267,
          67.31936111786874,
          62.070566071538686,
          41.185775928126674,
          52.13911444383406,
          40.51957267941332,
          53.27309024247359,
          30.709144835124366,
          38.83236677357759,
          54.42275714981963,
          30.96706715842401,
          64.76937548061042,
          75.81531580236292,
          31.4100498701629,
          64.22673487648362,
          34.09168231580961,
          34.523391070697826,
          35.92432239954708,
          70.0964288039634,
          70.18008259770136,
          27.192709559286293,
          24.70925435832684,
          49.559891796332735,
          77.47958542805752,
          70.88063574535789,
          42.271792123020056,
          30.97231178778172,
          65.85573952615566,
          50.66801813852784,
          27.69475700891681,
          51.54412662950303,
          45.39055204912427,
          76.37926528190133,
          40.83733769970398,
          66.5542378312947,
          51.09230836931046,
          38.93907592708344,
          60.44618362669008,
          42.76568021521339,
          26.044869568393917,
          41.69613954996083,
          71.71052139686083,
          31.229146517170992,
          40.58578760888762,
          45.43657282465658,
          45.1455766114798,
          41.90467917367492,
          63.24892756489624,
          68.24525486043326,
          71.3785243246928,
          31.763792848219158,
          68.00224749407823,
          48.379221471697846,
          20.584537465843827,
          28.06830107967336,
          73.5962245685115,
          57.83911906943037,
          52.03895526553407,
          38.94363483130914,
          49.19721184672453,
          35.058442009451284,
          22.86255824494447,
          25.938487957660783,
          29.80051281751828,
          32.928039497353765,
          64.67559322773957,
          41.61839480415733,
          40.64841658763676,
          56.334561943542106,
          54.61122538561871,
          52.30629526430614,
          78.76238798214902,
          37.07652390976654,
          50.626671532166185,
          46.815807024970255,
          24.70445128429129,
          77.39566585936322,
          75.71400001826359,
          56.73860828800689,
          44.2863632063124,
          24.74671564787603,
          40.61752925584521,
          38.80892380336444,
          56.32309838144971,
          73.2615083954774,
          51.25614149817498,
          47.01731938749062,
          27.502394643920248,
          34.07763153106982,
          64.63252069087189,
          32.63428948830536,
          76.20761970223083,
          48.39114779908973,
          23.229526293142843,
          66.25602233276331,
          51.43896748050885,
          26.23570424129915,
          25.05867599911958,
          75.89537481314152,
          64.25559369512287,
          27.5847024312364,
          51.60454027586479,
          30.23647905673293,
          74.9163432382947,
          71.85446849889519,
          48.03160860016117,
          72.25389638867266,
          52.91271646835428,
          28.10689447948735,
          55.44985559474715,
          64.93469609432718,
          72.63762260853551,
          58.3871905384339,
          74.53538910172952,
          48.89910096213286,
          44.732228335651925,
          29.34305234413128,
          20.633349120658192,
          51.39897442551543,
          52.10593328251709,
          65.95215220619826,
          67.87788657527682,
          67.80604303205817,
          31.31425875949973,
          72.92972410942065,
          69.70561133847745,
          24.75258399050208,
          50.99660371148808,
          56.79297319393229,
          61.635473527598506,
          51.91665596163659,
          24.107837162497862,
          39.23862338933143,
          29.128958307042147,
          78.33995629948683,
          46.30499812682289,
          20.883490812888542,
          61.8160881659797,
          24.81338583389504,
          65.03417489751162,
          43.545306505881854,
          52.59151703274851,
          73.74193869897988,
          35.00476799186351,
          42.89464451145472,
          20.756929273290133,
          78.47591017252759,
          62.8809512774478,
          78.49833284748834,
          31.950792578235845,
          32.50682792342851,
          43.34737763469322,
          77.672833790828,
          76.17291479843699,
          63.694224674486776,
          64.68347472135167,
          27.32849072813067,
          48.87377558880448,
          37.92878502550288,
          23.125250874604724,
          67.66342384044827,
          78.13009576886596,
          61.30439233610583,
          34.9233353842937,
          61.15667862533547,
          23.60314014245948,
          41.3310605188794,
          29.23510612606769,
          52.18119954681377,
          49.27057291537879,
          39.00437354222343,
          53.50102653588138,
          42.66613618649579,
          63.46394947233744,
          62.39755873568356,
          49.40551974912397,
          72.05971039742957,
          71.63365165346278,
          69.16511308998582,
          50.35746397631328,
          72.97594235184187,
          57.18407639421342,
          57.21183876937027,
          39.24164565846483,
          78.02978942049586,
          31.39216714683313,
          60.99345095346085,
          44.5882716659772,
          26.423310109393423,
          21.90902899399944,
          58.50510008765736,
          49.39457827470662,
          57.43822903989882,
          55.41805472490424,
          22.945137634733623,
          33.243367048779255,
          63.07071167418687,
          20.785166590010085,
          75.26211256179425,
          59.34496171388275,
          75.70422316630214,
          48.083548605898,
          58.33500298590966,
          69.32159097600072,
          67.65497462828478,
          23.498001466829905,
          51.741249877506405,
          64.05802029537624,
          51.169116391443865,
          26.07350724570688,
          33.86108019873249,
          43.11986529355961,
          59.41259082351462,
          54.20166013776885,
          64.76650257655122,
          54.59381953982861,
          45.62449941761375,
          50.2815668303577,
          52.03402861882756,
          44.74059750028745,
          57.994449331129225,
          34.4433533682576,
          64.67470091019084,
          77.5894658552515,
          22.079774133692595,
          79.06366551900805,
          32.88936876761336,
          38.8942805029607,
          66.29138431933816,
          75.14672497823676,
          25.657227652253045,
          47.622188339675546,
          35.899290755577184,
          34.99141435309983,
          69.1709158901821,
          25.72184321071112,
          58.53527738171514,
          68.50047032964991,
          42.8927666299689,
          66.80731448050858,
          75.31228979121215,
          75.81476503662665,
          27.232431711161063,
          64.86071943615937,
          75.71918994699465,
          57.93161722234798,
          23.247676926009383,
          39.158992412654925,
          53.89477363955081,
          61.86611915564411,
          60.418114542176674,
          79.84203818122269,
          67.18209790929663,
          28.88074403950082,
          64.71890228210884,
          52.889144301052966,
          46.06946666858723,
          61.87223097549759,
          65.72197517821375,
          48.85535011856087,
          43.71912821482797,
          54.27984097425608,
          53.67005658864833,
          51.454866936614735,
          44.81492314794984,
          41.91605866624766,
          31.42938449415789,
          40.67149457061759,
          66.1808775237883,
          30.15531584068473,
          40.9829839838539,
          69.29504319585524,
          68.16776146391484,
          57.39092937669984,
          46.4278054437984,
          63.70920517419166,
          25.148866375850915,
          28.86062467191473,
          69.94668535298138,
          40.59628234526301,
          38.30708300325046,
          48.2714182240135,
          39.91260314390489,
          32.712518812925225,
          52.785452838211896,
          65.02130892514795,
          52.92800328866824,
          60.09563491570436,
          61.79160130827045,
          36.27688708294268,
          59.62236952989267,
          59.77889814320934,
          74.77212682072835,
          41.613148539192494,
          37.54973465237488,
          73.00413890901706,
          62.58132790011333,
          55.82638451377778,
          22.3851441952849,
          75.33620694104523,
          41.322687994792,
          79.7596646748085,
          35.46076188028333,
          79.99710804888247,
          76.94698510178648,
          33.53496185766526,
          63.79337983528097,
          51.243070644411006,
          72.36208824464288,
          45.58789982074671,
          38.74296586650701,
          56.32213309226248,
          46.9501511196347,
          59.14835876460814,
          61.04291817550587,
          32.138613997066464,
          28.286578495352742,
          73.91859018376715,
          74.57376292433702,
          24.068842481377853,
          63.16643034743694,
          70.37135059221302,
          28.731369850224045,
          21.769000783012068,
          64.73658379931831,
          29.117423346239875,
          55.78164155729824,
          33.85474265547598,
          24.7685258186495,
          28.045197651829383,
          43.2476172557975,
          29.82718252834372,
          33.576383605105974,
          78.12890485600275,
          77.01188254939498,
          60.28034522603903,
          32.17001457114961,
          30.624692109422323,
          77.2819441492681,
          73.25521495049469,
          63.212054809733104,
          43.64904252208987,
          76.34834799578839,
          52.169563111020864,
          58.48362946917845,
          22.310718381695043,
          26.55897756737899,
          72.66601802814718,
          34.74329897107302,
          52.27214860719942,
          22.355097334549253,
          46.37323248298759,
          73.06385456229185,
          37.15487530589722,
          29.98919610193171,
          37.66518352022808,
          75.14196919853092,
          74.22053879897578,
          58.76609047578189,
          25.42644845961636,
          52.78442627279759,
          21.49472676763471,
          47.220844145260216,
          29.839641623962542,
          62.37360259118605,
          58.04434509408923,
          56.724352069089065,
          22.63436500799372,
          30.253098865860448,
          71.76034874473052,
          28.6764424348772,
          66.14940779449678,
          38.48373233207388,
          63.80970482615996,
          77.6579668132625,
          73.91251480500594,
          20.211973915648606,
          65.92374842753007,
          68.44727382320934,
          56.479035861508365,
          49.60800777578877,
          47.224309031732986,
          36.68677625943692,
          69.20728347834311,
          32.458256057911576,
          31.09039924215801,
          28.72246497295616,
          54.68556292564322,
          39.86666526811631,
          59.65547667064381,
          61.99080896152659,
          53.73063184801605,
          64.96008854164165,
          41.611318855649145,
          73.85178657424719,
          69.21588453695178,
          65.50651927023702,
          70.59857780507404,
          27.32139380035673,
          71.56447646368377,
          39.75251161771389,
          44.82547455637733,
          78.76099674208996,
          25.26018447443678,
          62.4083384665194,
          70.86787819109345,
          57.39464879953265,
          56.857398850903365,
          49.86446685753961,
          33.96329836931247,
          37.42928384807303
         ]
        },
        {
         "name": "Dark Theme",
         "type": "box",
         "y": [
          45.73737586862724,
          74.4715325958457,
          55.89754099105283,
          35.468298579314805,
          20.328167248881822,
          51.35243778727737,
          51.18571073138448,
          42.50179290229653,
          44.53070463043591,
          55.12221109284433,
          52.16629345278213,
          53.88021425857131,
          56.7128406206789,
          43.84724889172847,
          53.1262969004162,
          30.723175869977304,
          53.5456297792098,
          43.88778510799219,
          33.786278268662784,
          66.98655562072014,
          76.95471070489069,
          26.016717052962544,
          67.16486737360262,
          68.05122400100956,
          61.07386680250909,
          69.39532793104429,
          48.30011960530062,
          56.01472650559728,
          35.78551987786751,
          75.84109946390156,
          44.038691497131694,
          59.37051379129538,
          23.44778207498007,
          30.516267705093902,
          49.662102657097,
          20.642623842525733,
          75.84550804074551,
          67.0375667212225,
          50.63287102392925,
          61.90698395595147,
          56.91139914221296,
          59.30114716304269,
          44.32705801103123,
          20.92199134987244,
          62.21731546608381,
          75.15064526654743,
          52.97555921278616,
          54.97594491307225,
          40.84850533155545,
          33.57773077772411,
          77.78342836850517,
          44.237388182389765,
          30.50208720883785,
          50.1901499752336,
          50.79720122667074,
          67.60335545609618,
          35.00848950186008,
          49.01779373137676,
          34.59639538413582,
          48.91820972395016,
          33.22293937664313,
          68.00968363094212,
          44.74555833136097,
          62.04911313899325,
          35.80098148357463,
          37.23737497315232,
          43.93583819584455,
          64.92728791582942,
          33.113968027077426,
          33.752451927706545,
          41.36164240062038,
          66.7363088309866,
          77.34678104374889,
          20.3974205691714,
          71.42536023623077,
          38.92501435831504,
          73.88727202357113,
          72.8592349128424,
          54.47116279696024,
          36.48398197776318,
          43.87276987228965,
          65.01016314774685,
          21.95375882199788,
          71.62400782987712,
          47.43176205896162,
          27.222090824653755,
          20.50511628917753,
          35.770942078742,
          36.16449377149881,
          77.51160902369799,
          31.03482045178265,
          65.13174580289854,
          44.03555584533343,
          47.04373948867137,
          54.28458309075496,
          78.7563471090314,
          61.16071472848955,
          68.85143984848398,
          53.32040284524206,
          64.3125208390719,
          45.29124014061592,
          71.51011894695513,
          35.25738096678529,
          70.33830253624717,
          25.77811320864624,
          35.58614732070059,
          53.44948929481711,
          68.60095288949378,
          44.705654287891456,
          41.06542938979055,
          60.77515108724678,
          58.99192898681653,
          39.50541720086015,
          66.48466202759423,
          56.819826343591615,
          47.825124844184,
          72.09545902948477,
          58.43483916270009,
          45.30898927060071,
          74.42438307613614,
          59.18078584582642,
          62.62600910699624,
          43.727319510839024,
          66.85844221538594,
          76.3261900975547,
          64.87372990857949,
          30.03908642406144,
          71.25271068055977,
          35.0988206001091,
          64.98438421490701,
          43.82273499802172,
          25.733223138954813,
          79.76082388307952,
          57.08613030103193,
          43.39077248098134,
          33.761357328621976,
          46.58962560883791,
          22.109298853672648,
          41.41047456579005,
          76.09145429987359,
          76.90916792942116,
          52.357254107461856,
          47.39260522919037,
          46.0986422852247,
          52.02704786196112,
          33.62770667882611,
          25.373241353866597,
          38.47209112306683,
          65.49760692474834,
          28.17802727694135,
          37.20573490971235,
          61.26619782541173,
          49.515899247061085,
          65.32836205232161,
          37.9766310792264,
          55.82022513354512,
          52.8927317441898,
          46.22638198498729,
          34.993767066271374,
          62.89627897908591,
          58.759447957451606,
          33.2355455739708,
          57.51938085536442,
          67.9975442185794,
          36.31190700144031,
          58.907422457453706,
          36.12932149152631,
          31.280037546224307,
          28.19744197559146,
          26.62138103107782,
          47.32058075862948,
          47.166033955872415,
          62.02835587684233,
          49.51976084163313,
          78.1829730577636,
          21.327853136928788,
          36.92687225454828,
          27.502352169988725,
          20.49224536097519,
          25.411818988926868,
          33.03128511097111,
          45.21458162884862,
          67.14352032518194,
          49.90374535231148,
          42.283824889518826,
          21.90422728519826,
          28.76526954294965,
          35.99021469458322,
          30.896224316444524,
          43.0878739526385,
          34.82973146630183,
          79.67212454982561,
          64.11936675205646,
          25.637618238243064,
          59.96047302281075,
          29.51668618433069,
          52.97479667704981,
          41.62559936382751,
          60.00168705781768,
          78.3964436261036,
          34.15795026700599,
          46.04969903432436,
          20.90406231613175,
          55.08181160076689,
          43.74849801770319,
          34.58535999458873,
          54.864621363643664,
          61.44508487370789,
          29.29951654586136,
          66.24782000011797,
          49.99515239510009,
          40.305325805030215,
          78.17910238965143,
          65.57360989978864,
          26.443499382955185,
          58.67875878067204,
          40.83906433233263,
          73.50775708498905,
          63.991329905226216,
          21.281169961057596,
          35.04177446603613,
          22.369312562928556,
          53.54148743810411,
          52.56404460834165,
          54.00210403798225,
          52.61723265692503,
          39.42085254150736,
          48.10368326693376,
          55.920796654138265,
          29.62060454586592,
          51.86824581996745,
          46.963051987740094,
          52.49635712822349,
          47.24473878773443,
          66.55507444055053,
          64.01946448633117,
          41.84451182604576,
          23.80050539595905,
          69.14298402703889,
          65.94404573059133,
          29.24789083586897,
          36.987745012015125,
          39.32144333889967,
          25.77537783527398,
          59.53346180916421,
          22.62663580560387,
          76.2679721995179,
          30.7183280021665,
          21.876425237392944,
          31.49699841384005,
          43.31592917051371,
          69.92466185090996,
          41.65556306750471,
          64.60864645462209,
          73.4258366000443,
          57.015999525405,
          70.06738989229703,
          24.676122491629485,
          32.95400379326347,
          31.5871668724084,
          76.85020067344512,
          53.50540880077825,
          53.48849642955568,
          65.97700520096316,
          60.46955382468726,
          62.15302497084841,
          26.24614380306421,
          67.54769586640441,
          52.9979279942321,
          59.45191286124727,
          55.994943876420926,
          76.01119817152205,
          74.1490982391633,
          53.00488054370715,
          79.81101885049974,
          70.69124089407302,
          69.56929850244566,
          39.407055202907344,
          52.73757437494165,
          42.50378449218342,
          53.01432233727585,
          41.6005126960509,
          47.14420845247796,
          20.01173767133651,
          37.06893023659117,
          20.97814687383593,
          28.1051425606364,
          73.41947345517947,
          20.39412973836092,
          76.60087437468134,
          69.34024748621454,
          50.67628930046696,
          54.24009230401625,
          54.29670981528525,
          29.366426380757176,
          73.37752114928769,
          35.374630307141345,
          38.01814590032628,
          54.22922956934493,
          54.14389621520719,
          33.04623681348531,
          24.632093931845063,
          39.48152324240097,
          48.95199038367085,
          49.29658390240605,
          73.94144580793161,
          62.170873690947495,
          22.242295770699982,
          40.06337866839626,
          72.78755015901105,
          46.05826381587463,
          66.22340346577063,
          70.96869003875626,
          58.03322618190286,
          51.46300109081667,
          39.60989765930248,
          29.19184895628086,
          78.26241468442211,
          65.17041218063184,
          54.5152912310046,
          25.404977152683863,
          45.916140209041394,
          40.17009068245222,
          48.55127926384236,
          35.753478594904685,
          43.9116222419544,
          31.88651166313637,
          79.82472601637292,
          34.5389055035907,
          35.97542544161017,
          45.80394386801643,
          61.08427834099743,
          54.56109423470258,
          26.751792284137405,
          59.32459146866507,
          75.45279241420563,
          34.00937581048244,
          61.121553647736064,
          29.35947303074618,
          64.37489780241461,
          34.58289859396558,
          57.2601465553327,
          37.261105334937554,
          68.25684641805796,
          64.40077910036092,
          57.382519571448974,
          79.53812769413624,
          61.70426861886168,
          42.59640019372326,
          74.36241716006174,
          51.60794543183536,
          35.32738067373022,
          23.60660297454009,
          32.041763420040226,
          47.8976491040399,
          76.71058893576301,
          23.99586754529706,
          26.47348598498627,
          43.19139356814412,
          78.78757106395119,
          50.51241992858586,
          74.23232360875127,
          49.07972911004994,
          25.28124012935939,
          31.932512000494064,
          78.00748234599214,
          53.64125248477607,
          62.74815143115303,
          38.29565137635304,
          49.395970729023134,
          64.66344318852063,
          21.102333521893573,
          61.05868131752897,
          38.13957269618128,
          78.71526949163592,
          36.55269673998335,
          23.72058181127564,
          43.23023537862394,
          79.42169518595898,
          76.64820189249784,
          40.50716917090504,
          43.57079579991032,
          28.235640565065296,
          60.67969379385488,
          61.19139875207602,
          45.04000018851197,
          54.37391317758672,
          27.90632793609377,
          54.861842039832695,
          61.31192536881702,
          45.80385789082309,
          74.54012571682493,
          66.20299986533183,
          59.37390518174914,
          53.89065723886137,
          29.48287501223216,
          51.97769281950663,
          31.048112951635236,
          39.12124673134024,
          78.37376210721142,
          77.67177123334338,
          38.20088629856906,
          69.30191094910953,
          58.21084392067046,
          64.30037674626536,
          31.276016134070492,
          27.892752819394985,
          21.571893287799124,
          79.15733558475148,
          57.01679033049759,
          56.33627067523141,
          56.74172128628702,
          21.56506956782699,
          66.78957498517731,
          70.768294157704,
          48.125809898385015,
          58.97411318449351,
          31.038588666377706,
          48.4308152515498,
          44.51534961068876,
          75.52610498809457,
          33.35325274275243,
          32.273726343871495,
          46.35711216947243,
          57.023561666880354,
          61.27176224808199,
          72.00649430940074,
          45.65334099748735,
          66.57288314781766,
          56.47579747527768,
          69.45971088724173,
          54.31606706699988,
          62.24675303112858,
          47.4140254379854,
          72.66679629497366,
          79.02983862243745,
          43.24387111490668,
          65.90959234415675,
          77.75553869424556,
          31.391020398369143,
          66.42062075180755,
          61.39717751009895,
          47.81473718429811,
          50.03946741514128,
          30.786283513336397,
          55.12686324321141,
          73.6596810949359,
          43.58400288830369,
          39.40765594730638,
          73.79705043701875,
          73.74769443359912,
          72.95290684164308,
          25.410779677368232,
          39.444486808054485,
          58.91458581708184,
          62.6881847365884,
          63.99573987284789,
          25.471474430336773,
          25.11839264205872,
          62.43674712661834,
          63.6124301512837,
          78.51148553714145,
          29.593980183606725,
          53.02075313654855,
          40.111588343452624,
          72.27832421341404,
          29.727445782192888,
          23.078629413060103,
          37.326832246684816,
          30.84176158199637,
          77.62603277095482,
          20.73246588944315,
          49.85765644404786,
          49.91853440262429,
          33.012430633095946,
          59.56823727892875,
          46.5125216898642,
          56.07299399380479,
          20.39438139410905,
          72.93007189661634,
          57.71812553296178,
          23.30383628008226,
          40.94118999096202,
          21.94592550411666,
          56.19712783326575,
          25.26216106818528,
          26.53325874371391,
          79.62411083798784,
          29.680113645832456,
          37.06283268828232,
          54.33695530324023,
          77.97759583085977,
          22.150402557757324,
          66.11071898011616,
          39.36931105043117,
          23.895551991238907,
          48.249010652845705,
          32.59072215668685,
          32.5430588180067,
          23.491075236783423,
          54.28202453094505,
          51.73679738664147,
          63.44444827228231,
          56.28668126488849,
          67.29109063131142,
          45.62321630515662,
          35.579602357175006,
          54.50856134073034,
          75.6263220890074,
          49.78381552683076,
          63.75108463996244,
          68.47882159646178,
          73.01982087317367,
          31.613326222411203
         ]
        }
       ],
       "layout": {
        "template": {
         "data": {
          "bar": [
           {
            "error_x": {
             "color": "#2a3f5f"
            },
            "error_y": {
             "color": "#2a3f5f"
            },
            "marker": {
             "line": {
              "color": "#E5ECF6",
              "width": 0.5
             },
             "pattern": {
              "fillmode": "overlay",
              "size": 10,
              "solidity": 0.2
             }
            },
            "type": "bar"
           }
          ],
          "barpolar": [
           {
            "marker": {
             "line": {
              "color": "#E5ECF6",
              "width": 0.5
             },
             "pattern": {
              "fillmode": "overlay",
              "size": 10,
              "solidity": 0.2
             }
            },
            "type": "barpolar"
           }
          ],
          "carpet": [
           {
            "aaxis": {
             "endlinecolor": "#2a3f5f",
             "gridcolor": "white",
             "linecolor": "white",
             "minorgridcolor": "white",
             "startlinecolor": "#2a3f5f"
            },
            "baxis": {
             "endlinecolor": "#2a3f5f",
             "gridcolor": "white",
             "linecolor": "white",
             "minorgridcolor": "white",
             "startlinecolor": "#2a3f5f"
            },
            "type": "carpet"
           }
          ],
          "choropleth": [
           {
            "colorbar": {
             "outlinewidth": 0,
             "ticks": ""
            },
            "type": "choropleth"
           }
          ],
          "contour": [
           {
            "colorbar": {
             "outlinewidth": 0,
             "ticks": ""
            },
            "colorscale": [
             [
              0,
              "#0d0887"
             ],
             [
              0.1111111111111111,
              "#46039f"
             ],
             [
              0.2222222222222222,
              "#7201a8"
             ],
             [
              0.3333333333333333,
              "#9c179e"
             ],
             [
              0.4444444444444444,
              "#bd3786"
             ],
             [
              0.5555555555555556,
              "#d8576b"
             ],
             [
              0.6666666666666666,
              "#ed7953"
             ],
             [
              0.7777777777777778,
              "#fb9f3a"
             ],
             [
              0.8888888888888888,
              "#fdca26"
             ],
             [
              1,
              "#f0f921"
             ]
            ],
            "type": "contour"
           }
          ],
          "contourcarpet": [
           {
            "colorbar": {
             "outlinewidth": 0,
             "ticks": ""
            },
            "type": "contourcarpet"
           }
          ],
          "heatmap": [
           {
            "colorbar": {
             "outlinewidth": 0,
             "ticks": ""
            },
            "colorscale": [
             [
              0,
              "#0d0887"
             ],
             [
              0.1111111111111111,
              "#46039f"
             ],
             [
              0.2222222222222222,
              "#7201a8"
             ],
             [
              0.3333333333333333,
              "#9c179e"
             ],
             [
              0.4444444444444444,
              "#bd3786"
             ],
             [
              0.5555555555555556,
              "#d8576b"
             ],
             [
              0.6666666666666666,
              "#ed7953"
             ],
             [
              0.7777777777777778,
              "#fb9f3a"
             ],
             [
              0.8888888888888888,
              "#fdca26"
             ],
             [
              1,
              "#f0f921"
             ]
            ],
            "type": "heatmap"
           }
          ],
          "heatmapgl": [
           {
            "colorbar": {
             "outlinewidth": 0,
             "ticks": ""
            },
            "colorscale": [
             [
              0,
              "#0d0887"
             ],
             [
              0.1111111111111111,
              "#46039f"
             ],
             [
              0.2222222222222222,
              "#7201a8"
             ],
             [
              0.3333333333333333,
              "#9c179e"
             ],
             [
              0.4444444444444444,
              "#bd3786"
             ],
             [
              0.5555555555555556,
              "#d8576b"
             ],
             [
              0.6666666666666666,
              "#ed7953"
             ],
             [
              0.7777777777777778,
              "#fb9f3a"
             ],
             [
              0.8888888888888888,
              "#fdca26"
             ],
             [
              1,
              "#f0f921"
             ]
            ],
            "type": "heatmapgl"
           }
          ],
          "histogram": [
           {
            "marker": {
             "pattern": {
              "fillmode": "overlay",
              "size": 10,
              "solidity": 0.2
             }
            },
            "type": "histogram"
           }
          ],
          "histogram2d": [
           {
            "colorbar": {
             "outlinewidth": 0,
             "ticks": ""
            },
            "colorscale": [
             [
              0,
              "#0d0887"
             ],
             [
              0.1111111111111111,
              "#46039f"
             ],
             [
              0.2222222222222222,
              "#7201a8"
             ],
             [
              0.3333333333333333,
              "#9c179e"
             ],
             [
              0.4444444444444444,
              "#bd3786"
             ],
             [
              0.5555555555555556,
              "#d8576b"
             ],
             [
              0.6666666666666666,
              "#ed7953"
             ],
             [
              0.7777777777777778,
              "#fb9f3a"
             ],
             [
              0.8888888888888888,
              "#fdca26"
             ],
             [
              1,
              "#f0f921"
             ]
            ],
            "type": "histogram2d"
           }
          ],
          "histogram2dcontour": [
           {
            "colorbar": {
             "outlinewidth": 0,
             "ticks": ""
            },
            "colorscale": [
             [
              0,
              "#0d0887"
             ],
             [
              0.1111111111111111,
              "#46039f"
             ],
             [
              0.2222222222222222,
              "#7201a8"
             ],
             [
              0.3333333333333333,
              "#9c179e"
             ],
             [
              0.4444444444444444,
              "#bd3786"
             ],
             [
              0.5555555555555556,
              "#d8576b"
             ],
             [
              0.6666666666666666,
              "#ed7953"
             ],
             [
              0.7777777777777778,
              "#fb9f3a"
             ],
             [
              0.8888888888888888,
              "#fdca26"
             ],
             [
              1,
              "#f0f921"
             ]
            ],
            "type": "histogram2dcontour"
           }
          ],
          "mesh3d": [
           {
            "colorbar": {
             "outlinewidth": 0,
             "ticks": ""
            },
            "type": "mesh3d"
           }
          ],
          "parcoords": [
           {
            "line": {
             "colorbar": {
              "outlinewidth": 0,
              "ticks": ""
             }
            },
            "type": "parcoords"
           }
          ],
          "pie": [
           {
            "automargin": true,
            "type": "pie"
           }
          ],
          "scatter": [
           {
            "fillpattern": {
             "fillmode": "overlay",
             "size": 10,
             "solidity": 0.2
            },
            "type": "scatter"
           }
          ],
          "scatter3d": [
           {
            "line": {
             "colorbar": {
              "outlinewidth": 0,
              "ticks": ""
             }
            },
            "marker": {
             "colorbar": {
              "outlinewidth": 0,
              "ticks": ""
             }
            },
            "type": "scatter3d"
           }
          ],
          "scattercarpet": [
           {
            "marker": {
             "colorbar": {
              "outlinewidth": 0,
              "ticks": ""
             }
            },
            "type": "scattercarpet"
           }
          ],
          "scattergeo": [
           {
            "marker": {
             "colorbar": {
              "outlinewidth": 0,
              "ticks": ""
             }
            },
            "type": "scattergeo"
           }
          ],
          "scattergl": [
           {
            "marker": {
             "colorbar": {
              "outlinewidth": 0,
              "ticks": ""
             }
            },
            "type": "scattergl"
           }
          ],
          "scattermapbox": [
           {
            "marker": {
             "colorbar": {
              "outlinewidth": 0,
              "ticks": ""
             }
            },
            "type": "scattermapbox"
           }
          ],
          "scatterpolar": [
           {
            "marker": {
             "colorbar": {
              "outlinewidth": 0,
              "ticks": ""
             }
            },
            "type": "scatterpolar"
           }
          ],
          "scatterpolargl": [
           {
            "marker": {
             "colorbar": {
              "outlinewidth": 0,
              "ticks": ""
             }
            },
            "type": "scatterpolargl"
           }
          ],
          "scatterternary": [
           {
            "marker": {
             "colorbar": {
              "outlinewidth": 0,
              "ticks": ""
             }
            },
            "type": "scatterternary"
           }
          ],
          "surface": [
           {
            "colorbar": {
             "outlinewidth": 0,
             "ticks": ""
            },
            "colorscale": [
             [
              0,
              "#0d0887"
             ],
             [
              0.1111111111111111,
              "#46039f"
             ],
             [
              0.2222222222222222,
              "#7201a8"
             ],
             [
              0.3333333333333333,
              "#9c179e"
             ],
             [
              0.4444444444444444,
              "#bd3786"
             ],
             [
              0.5555555555555556,
              "#d8576b"
             ],
             [
              0.6666666666666666,
              "#ed7953"
             ],
             [
              0.7777777777777778,
              "#fb9f3a"
             ],
             [
              0.8888888888888888,
              "#fdca26"
             ],
             [
              1,
              "#f0f921"
             ]
            ],
            "type": "surface"
           }
          ],
          "table": [
           {
            "cells": {
             "fill": {
              "color": "#EBF0F8"
             },
             "line": {
              "color": "white"
             }
            },
            "header": {
             "fill": {
              "color": "#C8D4E3"
             },
             "line": {
              "color": "white"
             }
            },
            "type": "table"
           }
          ]
         },
         "layout": {
          "annotationdefaults": {
           "arrowcolor": "#2a3f5f",
           "arrowhead": 0,
           "arrowwidth": 1
          },
          "autotypenumbers": "strict",
          "coloraxis": {
           "colorbar": {
            "outlinewidth": 0,
            "ticks": ""
           }
          },
          "colorscale": {
           "diverging": [
            [
             0,
             "#8e0152"
            ],
            [
             0.1,
             "#c51b7d"
            ],
            [
             0.2,
             "#de77ae"
            ],
            [
             0.3,
             "#f1b6da"
            ],
            [
             0.4,
             "#fde0ef"
            ],
            [
             0.5,
             "#f7f7f7"
            ],
            [
             0.6,
             "#e6f5d0"
            ],
            [
             0.7,
             "#b8e186"
            ],
            [
             0.8,
             "#7fbc41"
            ],
            [
             0.9,
             "#4d9221"
            ],
            [
             1,
             "#276419"
            ]
           ],
           "sequential": [
            [
             0,
             "#0d0887"
            ],
            [
             0.1111111111111111,
             "#46039f"
            ],
            [
             0.2222222222222222,
             "#7201a8"
            ],
            [
             0.3333333333333333,
             "#9c179e"
            ],
            [
             0.4444444444444444,
             "#bd3786"
            ],
            [
             0.5555555555555556,
             "#d8576b"
            ],
            [
             0.6666666666666666,
             "#ed7953"
            ],
            [
             0.7777777777777778,
             "#fb9f3a"
            ],
            [
             0.8888888888888888,
             "#fdca26"
            ],
            [
             1,
             "#f0f921"
            ]
           ],
           "sequentialminus": [
            [
             0,
             "#0d0887"
            ],
            [
             0.1111111111111111,
             "#46039f"
            ],
            [
             0.2222222222222222,
             "#7201a8"
            ],
            [
             0.3333333333333333,
             "#9c179e"
            ],
            [
             0.4444444444444444,
             "#bd3786"
            ],
            [
             0.5555555555555556,
             "#d8576b"
            ],
            [
             0.6666666666666666,
             "#ed7953"
            ],
            [
             0.7777777777777778,
             "#fb9f3a"
            ],
            [
             0.8888888888888888,
             "#fdca26"
            ],
            [
             1,
             "#f0f921"
            ]
           ]
          },
          "colorway": [
           "#636efa",
           "#EF553B",
           "#00cc96",
           "#ab63fa",
           "#FFA15A",
           "#19d3f3",
           "#FF6692",
           "#B6E880",
           "#FF97FF",
           "#FECB52"
          ],
          "font": {
           "color": "#2a3f5f"
          },
          "geo": {
           "bgcolor": "white",
           "lakecolor": "white",
           "landcolor": "#E5ECF6",
           "showlakes": true,
           "showland": true,
           "subunitcolor": "white"
          },
          "hoverlabel": {
           "align": "left"
          },
          "hovermode": "closest",
          "mapbox": {
           "style": "light"
          },
          "paper_bgcolor": "white",
          "plot_bgcolor": "#E5ECF6",
          "polar": {
           "angularaxis": {
            "gridcolor": "white",
            "linecolor": "white",
            "ticks": ""
           },
           "bgcolor": "#E5ECF6",
           "radialaxis": {
            "gridcolor": "white",
            "linecolor": "white",
            "ticks": ""
           }
          },
          "scene": {
           "xaxis": {
            "backgroundcolor": "#E5ECF6",
            "gridcolor": "white",
            "gridwidth": 2,
            "linecolor": "white",
            "showbackground": true,
            "ticks": "",
            "zerolinecolor": "white"
           },
           "yaxis": {
            "backgroundcolor": "#E5ECF6",
            "gridcolor": "white",
            "gridwidth": 2,
            "linecolor": "white",
            "showbackground": true,
            "ticks": "",
            "zerolinecolor": "white"
           },
           "zaxis": {
            "backgroundcolor": "#E5ECF6",
            "gridcolor": "white",
            "gridwidth": 2,
            "linecolor": "white",
            "showbackground": true,
            "ticks": "",
            "zerolinecolor": "white"
           }
          },
          "shapedefaults": {
           "line": {
            "color": "#2a3f5f"
           }
          },
          "ternary": {
           "aaxis": {
            "gridcolor": "white",
            "linecolor": "white",
            "ticks": ""
           },
           "baxis": {
            "gridcolor": "white",
            "linecolor": "white",
            "ticks": ""
           },
           "bgcolor": "#E5ECF6",
           "caxis": {
            "gridcolor": "white",
            "linecolor": "white",
            "ticks": ""
           }
          },
          "title": {
           "x": 0.05
          },
          "xaxis": {
           "automargin": true,
           "gridcolor": "white",
           "linecolor": "white",
           "ticks": "",
           "title": {
            "standoff": 15
           },
           "zerolinecolor": "white",
           "zerolinewidth": 2
          },
          "yaxis": {
           "automargin": true,
           "gridcolor": "white",
           "linecolor": "white",
           "ticks": "",
           "title": {
            "standoff": 15
           },
           "zerolinecolor": "white",
           "zerolinewidth": 2
          }
         }
        },
        "title": {
         "text": "Scroll Dept by Theme"
        },
        "yaxis": {
         "title": {
          "text": "Scroll Dept"
         }
        }
       }
      }
     },
     "metadata": {},
     "output_type": "display_data"
    }
   ],
   "source": [
    "# Now Lets see the Scroll Depth for both Themes\n",
    "\n",
    "fig = go.Figure()\n",
    "\n",
    "fig.add_trace(go.Box(y=light_theme_data['Scroll_Depth'],name='Light Theme'))\n",
    "fig.add_trace(go.Box(y=dark_theme_data['Scroll_Depth'],name='Dark Theme'))\n",
    "\n",
    "fig.update_layout(\n",
    "    title_text = \"Scroll Dept by Theme\",\n",
    "    yaxis_title_text = \"Scroll Dept\"\n",
    ")\n",
    "\n",
    "\n",
    "fig.show()\n"
   ]
  },
  {
   "cell_type": "markdown",
   "metadata": {},
   "source": [
    "Here we can see scroll dept of light theme is slightly better than Dark theme"
   ]
  },
  {
   "cell_type": "code",
   "execution_count": 24,
   "metadata": {},
   "outputs": [],
   "source": [
    "# Comparing Both Themes based on Purchase\n",
    "# Now We will perform A/B Test for Purchase\n",
    "\n",
    "light_theme_conversions = light_theme_data[light_theme_data['Purchases'] == 'Yes'].shape[0]\n",
    "light_theme_total = light_theme_data.shape[0]\n",
    "\n",
    "dark_theme_conversions = dark_theme_data[dark_theme_data['Purchases'] == 'Yes'].shape[0]\n",
    "dark_theme_total = dark_theme_data.shape[0]"
   ]
  },
  {
   "cell_type": "code",
   "execution_count": 25,
   "metadata": {},
   "outputs": [
    {
     "data": {
      "text/plain": [
       "[258, 259]"
      ]
     },
     "execution_count": 25,
     "metadata": {},
     "output_type": "execute_result"
    }
   ],
   "source": [
    "conversion_counts = [light_theme_conversions,dark_theme_conversions]\n",
    "conversion_counts"
   ]
  },
  {
   "cell_type": "code",
   "execution_count": 26,
   "metadata": {},
   "outputs": [
    {
     "data": {
      "text/plain": [
       "[486, 514]"
      ]
     },
     "execution_count": 26,
     "metadata": {},
     "output_type": "execute_result"
    }
   ],
   "source": [
    "sample_sizes = [light_theme_total,dark_theme_total]\n",
    "sample_sizes"
   ]
  },
  {
   "cell_type": "code",
   "execution_count": 27,
   "metadata": {},
   "outputs": [],
   "source": [
    "# Calculate conversion rate for both themes\n",
    "\n",
    "light_theme_conversion_rate = light_theme_conversions / light_theme_total\n",
    "dark_theme_conversion_rate = dark_theme_conversions / dark_theme_total"
   ]
  },
  {
   "cell_type": "code",
   "execution_count": 31,
   "metadata": {},
   "outputs": [
    {
     "name": "stdout",
     "output_type": "stream",
     "text": [
      "Light Theme Conversion Rate: 0.5308641975308642\n",
      "Dark Theme Conversion Rate: 0.5038910505836576\n",
      "A/B Testing - z-statistic: 0.8531246206222649 ,P-value: 0.39359019934127804 \n"
     ]
    }
   ],
   "source": [
    "# Perform two-sample proportion test\n",
    "\n",
    "zstat,pval = proportions_ztest(conversion_counts,sample_sizes)\n",
    "\n",
    "print(f\"Light Theme Conversion Rate: {light_theme_conversion_rate}\")\n",
    "print(f\"Dark Theme Conversion Rate: {dark_theme_conversion_rate}\")\n",
    "\n",
    "print(f\"A/B Testing - z-statistic: {zstat} ,P-value: {pval} \")"
   ]
  },
  {
   "cell_type": "markdown",
   "metadata": {},
   "source": [
    "The Result of A/B Test are as follows : \n",
    "z-stat = 0.8532\n",
    "p-value = 0.3936\n",
    "\n",
    "looking at the z-stat value 0.8532 which is positive and this positive value indicates that conversion rate of light theme is slightly higher than Dark Theme.\n",
    "\n",
    "p-value indicates the probability of observed difference in conversion rates or more extreme difference if null hypothesis is true.\n",
    "Null Hypothesis assume there is no statistically significant difference between the two themes.\n",
    "\n",
    "In this case the p-value 0.3936 , which is greater than the typical significance leve of 0.05 (commonly used for A/B testing).We do not have enough evidence to reject null hypothesis. This means the observed difference in Conversion rates is not statistically significant.\n",
    "\n",
    "The result indicates, based on current data and analysis we cannot say that one theme performs better than other in terms of purchases."
   ]
  },
  {
   "cell_type": "code",
   "execution_count": 33,
   "metadata": {},
   "outputs": [
    {
     "name": "stdout",
     "output_type": "stream",
     "text": [
      "Ligh Theme Average Duration : 930.8333333333334\n",
      "Dark Theme Average Duration : 919.4824902723735\n"
     ]
    }
   ],
   "source": [
    "# Comparing Both Themes based on session duration\n",
    "\n",
    "light_theme_session_duration = light_theme_data['Session_Duration']\n",
    "dark_theme_session_duration = dark_theme_data['Session_Duration']\n",
    "\n",
    "#calculating average of session durations\n",
    "light_theme_avg_duration = light_theme_session_duration.mean()\n",
    "dark_theme_avg_duration = dark_theme_session_duration.mean()\n",
    "\n",
    "print(f\"Ligh Theme Average Duration : {light_theme_avg_duration}\")\n",
    "print(f\"Dark Theme Average Duration : {dark_theme_avg_duration}\")\n",
    "\n"
   ]
  },
  {
   "cell_type": "code",
   "execution_count": 34,
   "metadata": {},
   "outputs": [
    {
     "name": "stdout",
     "output_type": "stream",
     "text": [
      "A/B testing for session duration- t-statistic : 0.3528382474155483 , p-value : 0.7242842138292167\n"
     ]
    }
   ],
   "source": [
    "# perform two sample t-test for session duration\n",
    "\n",
    "tstat , pval = stats.ttest_ind(light_theme_session_duration,dark_theme_session_duration)\n",
    "\n",
    "print(f\"A/B testing for session duration- t-statistic : {tstat} , p-value : {pval}\")"
   ]
  },
  {
   "cell_type": "markdown",
   "metadata": {},
   "source": [
    "The Result for A/B test are as follows:\n",
    "t-statistic = 0.3528\n",
    "p-value = 0.7242\n",
    "\n",
    "The t-statistic value indicates the average difference between the two themes ,considering the variability in the dataset.\n",
    "Here the Positive t-stat value indicates the average session duration for Light Theme is Slightly Higher than the Dark Theme.\n",
    "\n",
    "p-value indicates the probability of observed difference in average session durations or more extreme difference if null hypothesis is true.\n",
    "Null Hypothesis assume there is no statistically significant difference between the two themes.\n",
    "\n",
    "In this case the p-value 0.7242 , which is greater than the typical significance leve of 0.05 (commonly used for A/B testing).We do not have enough evidence to reject null hypothesis. This means the observed difference in average session duration is not statistically significant.\n",
    "\n",
    "The results suggest that any observed difference in session duration could be due to random variation rather than a true difference caused by the themes.\n",
    "\n",
    "The result indicates, based on current data and analysis we cannot say that one theme performs better than other in terms of session Duratio.\n",
    "\n"
   ]
  },
  {
   "cell_type": "markdown",
   "metadata": {},
   "source": [
    "Summary:\n",
    "\n",
    "So this is how you can perform A/B testing of themes or designs using Python. A/B testing is a powerful and widely used technique to compare and evaluate marketing strategies, designs, layouts, or themes. The primary purpose of A/B testing is to make data-driven decisions that lead to improved user experiences, enhanced performance metrics, and ultimately better business outcomes. "
   ]
  },
  {
   "cell_type": "markdown",
   "metadata": {},
   "source": []
  }
 ],
 "metadata": {
  "kernelspec": {
   "display_name": "Python 3",
   "language": "python",
   "name": "python3"
  },
  "language_info": {
   "codemirror_mode": {
    "name": "ipython",
    "version": 3
   },
   "file_extension": ".py",
   "mimetype": "text/x-python",
   "name": "python",
   "nbconvert_exporter": "python",
   "pygments_lexer": "ipython3",
   "version": "3.11.5"
  }
 },
 "nbformat": 4,
 "nbformat_minor": 2
}
